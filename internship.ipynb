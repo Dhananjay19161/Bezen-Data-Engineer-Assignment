{
 "cells": [
  {
   "cell_type": "markdown",
   "metadata": {},
   "source": [
    "# Importing Libraries"
   ]
  },
  {
   "cell_type": "code",
   "execution_count": 84,
   "metadata": {},
   "outputs": [],
   "source": [
    "import pandas as pd\n",
    "import seaborn as sns"
   ]
  },
  {
   "cell_type": "markdown",
   "metadata": {},
   "source": [
    "# Reading csv file"
   ]
  },
  {
   "cell_type": "code",
   "execution_count": 85,
   "metadata": {},
   "outputs": [],
   "source": [
    "df=pd.read_csv('2022_02_08-02_30_31_AM.csv')"
   ]
  },
  {
   "cell_type": "code",
   "execution_count": 86,
   "metadata": {},
   "outputs": [
    {
     "name": "stdout",
     "output_type": "stream",
     "text": [
      "<class 'pandas.core.frame.DataFrame'>\n",
      "RangeIndex: 13730000 entries, 0 to 13729999\n",
      "Data columns (total 6 columns):\n",
      " #   Column            Dtype \n",
      "---  ------            ----- \n",
      " 0   uuid              object\n",
      " 1   price_string      object\n",
      " 2   price_string_unf  object\n",
      " 3   product_type      object\n",
      " 4   level_1           object\n",
      " 5   category          object\n",
      "dtypes: object(6)\n",
      "memory usage: 628.5+ MB\n"
     ]
    }
   ],
   "source": [
    "df.info()"
   ]
  },
  {
   "cell_type": "code",
   "execution_count": 87,
   "metadata": {},
   "outputs": [
    {
     "data": {
      "text/html": [
       "<div>\n",
       "<style scoped>\n",
       "    .dataframe tbody tr th:only-of-type {\n",
       "        vertical-align: middle;\n",
       "    }\n",
       "\n",
       "    .dataframe tbody tr th {\n",
       "        vertical-align: top;\n",
       "    }\n",
       "\n",
       "    .dataframe thead th {\n",
       "        text-align: right;\n",
       "    }\n",
       "</style>\n",
       "<table border=\"1\" class=\"dataframe\">\n",
       "  <thead>\n",
       "    <tr style=\"text-align: right;\">\n",
       "      <th></th>\n",
       "      <th>uuid</th>\n",
       "      <th>price_string</th>\n",
       "      <th>price_string_unf</th>\n",
       "      <th>product_type</th>\n",
       "      <th>level_1</th>\n",
       "      <th>category</th>\n",
       "    </tr>\n",
       "  </thead>\n",
       "  <tbody>\n",
       "    <tr>\n",
       "      <th>0</th>\n",
       "      <td>638744a4-b0ae-4166-8cb6-5c063c862036</td>\n",
       "      <td>NaN</td>\n",
       "      <td>NaN</td>\n",
       "      <td>TGFwdG9wIENvdmVycy9CYWdz</td>\n",
       "      <td>TGFwdG9wIENhc2U</td>\n",
       "      <td>RWxlY3Ryb25pY3M</td>\n",
       "    </tr>\n",
       "    <tr>\n",
       "      <th>1</th>\n",
       "      <td>ab313969-02cc-48b2-9daf-0054efb70b92</td>\n",
       "      <td>NaN</td>\n",
       "      <td>NaN</td>\n",
       "      <td>QmFraW5nIEN1cHMgYW5kIE1hdHM</td>\n",
       "      <td>QmFraW5nIE1hdHMgLyBCYWtpbmcgZGlzaA</td>\n",
       "      <td>a2l0Y2hpbmcgYW5kIGRpbmluZw</td>\n",
       "    </tr>\n",
       "    <tr>\n",
       "      <th>2</th>\n",
       "      <td>acbd66ff-79f8-467a-91f9-108a45af5626</td>\n",
       "      <td>$19.95</td>\n",
       "      <td>NaN</td>\n",
       "      <td>R3VtbWllcyB2aXRhbWlucyBhbmQgbWluZXJhbHMgZm9yIG...</td>\n",
       "      <td>SW1tdW5pdHkgZ3VtbWllcw</td>\n",
       "      <td>SGVhbHRo</td>\n",
       "    </tr>\n",
       "    <tr>\n",
       "      <th>3</th>\n",
       "      <td>963915d6-b2e3-4098-b242-9410593cf205</td>\n",
       "      <td>$92.00</td>\n",
       "      <td>NaN</td>\n",
       "      <td>U2VydW1z</td>\n",
       "      <td>RmFjZSBTZXJ1bQ</td>\n",
       "      <td>YmVhdXR5IGFuZCBwZXJzb25hbCBjYXJl</td>\n",
       "    </tr>\n",
       "    <tr>\n",
       "      <th>4</th>\n",
       "      <td>b5b68f3c-b1e0-40e5-8ee5-e2f7236c1daf</td>\n",
       "      <td>11.50</td>\n",
       "      <td>NaN</td>\n",
       "      <td>RWF0aW5nIFV0ZW5zaWxzL0N1dGxlcnk</td>\n",
       "      <td>Q2hvcHN0aWNrcw</td>\n",
       "      <td>a2l0Y2hpbmcgYW5kIGRpbmluZw</td>\n",
       "    </tr>\n",
       "  </tbody>\n",
       "</table>\n",
       "</div>"
      ],
      "text/plain": [
       "                                   uuid price_string price_string_unf  \\\n",
       "0  638744a4-b0ae-4166-8cb6-5c063c862036          NaN              NaN   \n",
       "1  ab313969-02cc-48b2-9daf-0054efb70b92          NaN              NaN   \n",
       "2  acbd66ff-79f8-467a-91f9-108a45af5626       $19.95              NaN   \n",
       "3  963915d6-b2e3-4098-b242-9410593cf205       $92.00              NaN   \n",
       "4  b5b68f3c-b1e0-40e5-8ee5-e2f7236c1daf        11.50              NaN   \n",
       "\n",
       "                                        product_type  \\\n",
       "0                           TGFwdG9wIENvdmVycy9CYWdz   \n",
       "1                        QmFraW5nIEN1cHMgYW5kIE1hdHM   \n",
       "2  R3VtbWllcyB2aXRhbWlucyBhbmQgbWluZXJhbHMgZm9yIG...   \n",
       "3                                           U2VydW1z   \n",
       "4                    RWF0aW5nIFV0ZW5zaWxzL0N1dGxlcnk   \n",
       "\n",
       "                              level_1                          category  \n",
       "0                     TGFwdG9wIENhc2U                   RWxlY3Ryb25pY3M  \n",
       "1  QmFraW5nIE1hdHMgLyBCYWtpbmcgZGlzaA        a2l0Y2hpbmcgYW5kIGRpbmluZw  \n",
       "2              SW1tdW5pdHkgZ3VtbWllcw                          SGVhbHRo  \n",
       "3                      RmFjZSBTZXJ1bQ  YmVhdXR5IGFuZCBwZXJzb25hbCBjYXJl  \n",
       "4                      Q2hvcHN0aWNrcw        a2l0Y2hpbmcgYW5kIGRpbmluZw  "
      ]
     },
     "execution_count": 87,
     "metadata": {},
     "output_type": "execute_result"
    }
   ],
   "source": [
    "df.head()"
   ]
  },
  {
   "cell_type": "markdown",
   "metadata": {},
   "source": [
    "# Query 1=> Product without Prices"
   ]
  },
  {
   "cell_type": "code",
   "execution_count": 88,
   "metadata": {},
   "outputs": [],
   "source": [
    "#Query 1 Product without prices\n",
    "Product_without_prices = df.loc[df['price_string'].isnull()]"
   ]
  },
  {
   "cell_type": "code",
   "execution_count": 89,
   "metadata": {},
   "outputs": [
    {
     "data": {
      "text/html": [
       "<div>\n",
       "<style scoped>\n",
       "    .dataframe tbody tr th:only-of-type {\n",
       "        vertical-align: middle;\n",
       "    }\n",
       "\n",
       "    .dataframe tbody tr th {\n",
       "        vertical-align: top;\n",
       "    }\n",
       "\n",
       "    .dataframe thead th {\n",
       "        text-align: right;\n",
       "    }\n",
       "</style>\n",
       "<table border=\"1\" class=\"dataframe\">\n",
       "  <thead>\n",
       "    <tr style=\"text-align: right;\">\n",
       "      <th></th>\n",
       "      <th>uuid</th>\n",
       "      <th>price_string</th>\n",
       "      <th>price_string_unf</th>\n",
       "      <th>product_type</th>\n",
       "      <th>level_1</th>\n",
       "      <th>category</th>\n",
       "    </tr>\n",
       "  </thead>\n",
       "  <tbody>\n",
       "    <tr>\n",
       "      <th>0</th>\n",
       "      <td>638744a4-b0ae-4166-8cb6-5c063c862036</td>\n",
       "      <td>NaN</td>\n",
       "      <td>NaN</td>\n",
       "      <td>TGFwdG9wIENvdmVycy9CYWdz</td>\n",
       "      <td>TGFwdG9wIENhc2U</td>\n",
       "      <td>RWxlY3Ryb25pY3M</td>\n",
       "    </tr>\n",
       "    <tr>\n",
       "      <th>1</th>\n",
       "      <td>ab313969-02cc-48b2-9daf-0054efb70b92</td>\n",
       "      <td>NaN</td>\n",
       "      <td>NaN</td>\n",
       "      <td>QmFraW5nIEN1cHMgYW5kIE1hdHM</td>\n",
       "      <td>QmFraW5nIE1hdHMgLyBCYWtpbmcgZGlzaA</td>\n",
       "      <td>a2l0Y2hpbmcgYW5kIGRpbmluZw</td>\n",
       "    </tr>\n",
       "    <tr>\n",
       "      <th>5</th>\n",
       "      <td>389d9f75-cc3f-4bd2-94f7-93e381a3bed5</td>\n",
       "      <td>NaN</td>\n",
       "      <td>NaN</td>\n",
       "      <td>TmF0dXJhbCBTd2VldGVuZXJzLyBTdWdhcg</td>\n",
       "      <td>TW9uayBGcnVpdA</td>\n",
       "      <td>Z3JvY2VyaWVz</td>\n",
       "    </tr>\n",
       "    <tr>\n",
       "      <th>13</th>\n",
       "      <td>1f2766ec-0a27-43f8-b28b-77a44492ead1</td>\n",
       "      <td>NaN</td>\n",
       "      <td>NaN</td>\n",
       "      <td>U2NydWJzIGFuZCBjbGVhbmluZyBjbG90aHM</td>\n",
       "      <td>U2NydWJz</td>\n",
       "      <td>SG91c2Vob2xkIGFuZCBDbGVhbmluZw</td>\n",
       "    </tr>\n",
       "    <tr>\n",
       "      <th>16</th>\n",
       "      <td>7bad39f5-74b9-4611-afb9-46fb135190cd</td>\n",
       "      <td>NaN</td>\n",
       "      <td>NaN</td>\n",
       "      <td>UGx1cyBzaXplIHdlYXIgZHJlc3M</td>\n",
       "      <td>RHJlc3M</td>\n",
       "      <td>Q2xvdGhpbmcgYW5kIEFjY2Vzc29yaWVz</td>\n",
       "    </tr>\n",
       "    <tr>\n",
       "      <th>...</th>\n",
       "      <td>...</td>\n",
       "      <td>...</td>\n",
       "      <td>...</td>\n",
       "      <td>...</td>\n",
       "      <td>...</td>\n",
       "      <td>...</td>\n",
       "    </tr>\n",
       "    <tr>\n",
       "      <th>13729992</th>\n",
       "      <td>8d763911-79b7-402d-8964-6bfe89692c66</td>\n",
       "      <td>NaN</td>\n",
       "      <td>NaN</td>\n",
       "      <td>TWVucyB3b3Jrd2Vhci8gb2ZmaWNlIHdlYXI</td>\n",
       "      <td>U2hpcnRz</td>\n",
       "      <td>Q2xvdGhpbmcgYW5kIEFjY2Vzc29yaWVz</td>\n",
       "    </tr>\n",
       "    <tr>\n",
       "      <th>13729993</th>\n",
       "      <td>2dc182aa-d591-49e4-85d1-5c4a60a09664</td>\n",
       "      <td>NaN</td>\n",
       "      <td>NaN</td>\n",
       "      <td>U3BpY2Vz</td>\n",
       "      <td>UGVwcGVy</td>\n",
       "      <td>Z3JvY2VyaWVz</td>\n",
       "    </tr>\n",
       "    <tr>\n",
       "      <th>13729995</th>\n",
       "      <td>2a13338e-9268-4f7b-9e7c-b8c41c72971b</td>\n",
       "      <td>NaN</td>\n",
       "      <td>NaN</td>\n",
       "      <td>RHJlc3Nlcw</td>\n",
       "      <td>TWF4aSBkcmVzcw</td>\n",
       "      <td>Q2xvdGhpbmcgYW5kIEFjY2Vzc29yaWVz</td>\n",
       "    </tr>\n",
       "    <tr>\n",
       "      <th>13729997</th>\n",
       "      <td>679f073a-862a-4e43-b5ce-41e45afd3bfa</td>\n",
       "      <td>NaN</td>\n",
       "      <td>NaN</td>\n",
       "      <td>UGV0IEZvb2Q</td>\n",
       "      <td>RHJ5IERvZyBGb29k</td>\n",
       "      <td>cGV0IHN1cHBsaWVz</td>\n",
       "    </tr>\n",
       "    <tr>\n",
       "      <th>13729998</th>\n",
       "      <td>25677eee-c26b-4abf-bd10-ca77a800ba26</td>\n",
       "      <td>NaN</td>\n",
       "      <td>NaN</td>\n",
       "      <td>U2F1Y2U</td>\n",
       "      <td>QkJRIFNhdWNl</td>\n",
       "      <td>Z3JvY2VyaWVz</td>\n",
       "    </tr>\n",
       "  </tbody>\n",
       "</table>\n",
       "<p>8220000 rows × 6 columns</p>\n",
       "</div>"
      ],
      "text/plain": [
       "                                          uuid price_string price_string_unf  \\\n",
       "0         638744a4-b0ae-4166-8cb6-5c063c862036          NaN              NaN   \n",
       "1         ab313969-02cc-48b2-9daf-0054efb70b92          NaN              NaN   \n",
       "5         389d9f75-cc3f-4bd2-94f7-93e381a3bed5          NaN              NaN   \n",
       "13        1f2766ec-0a27-43f8-b28b-77a44492ead1          NaN              NaN   \n",
       "16        7bad39f5-74b9-4611-afb9-46fb135190cd          NaN              NaN   \n",
       "...                                        ...          ...              ...   \n",
       "13729992  8d763911-79b7-402d-8964-6bfe89692c66          NaN              NaN   \n",
       "13729993  2dc182aa-d591-49e4-85d1-5c4a60a09664          NaN              NaN   \n",
       "13729995  2a13338e-9268-4f7b-9e7c-b8c41c72971b          NaN              NaN   \n",
       "13729997  679f073a-862a-4e43-b5ce-41e45afd3bfa          NaN              NaN   \n",
       "13729998  25677eee-c26b-4abf-bd10-ca77a800ba26          NaN              NaN   \n",
       "\n",
       "                                 product_type  \\\n",
       "0                    TGFwdG9wIENvdmVycy9CYWdz   \n",
       "1                 QmFraW5nIEN1cHMgYW5kIE1hdHM   \n",
       "5          TmF0dXJhbCBTd2VldGVuZXJzLyBTdWdhcg   \n",
       "13        U2NydWJzIGFuZCBjbGVhbmluZyBjbG90aHM   \n",
       "16                UGx1cyBzaXplIHdlYXIgZHJlc3M   \n",
       "...                                       ...   \n",
       "13729992  TWVucyB3b3Jrd2Vhci8gb2ZmaWNlIHdlYXI   \n",
       "13729993                             U3BpY2Vz   \n",
       "13729995                           RHJlc3Nlcw   \n",
       "13729997                          UGV0IEZvb2Q   \n",
       "13729998                              U2F1Y2U   \n",
       "\n",
       "                                     level_1                          category  \n",
       "0                            TGFwdG9wIENhc2U                   RWxlY3Ryb25pY3M  \n",
       "1         QmFraW5nIE1hdHMgLyBCYWtpbmcgZGlzaA        a2l0Y2hpbmcgYW5kIGRpbmluZw  \n",
       "5                             TW9uayBGcnVpdA                      Z3JvY2VyaWVz  \n",
       "13                                  U2NydWJz    SG91c2Vob2xkIGFuZCBDbGVhbmluZw  \n",
       "16                                   RHJlc3M  Q2xvdGhpbmcgYW5kIEFjY2Vzc29yaWVz  \n",
       "...                                      ...                               ...  \n",
       "13729992                            U2hpcnRz  Q2xvdGhpbmcgYW5kIEFjY2Vzc29yaWVz  \n",
       "13729993                            UGVwcGVy                      Z3JvY2VyaWVz  \n",
       "13729995                      TWF4aSBkcmVzcw  Q2xvdGhpbmcgYW5kIEFjY2Vzc29yaWVz  \n",
       "13729997                    RHJ5IERvZyBGb29k                  cGV0IHN1cHBsaWVz  \n",
       "13729998                        QkJRIFNhdWNl                      Z3JvY2VyaWVz  \n",
       "\n",
       "[8220000 rows x 6 columns]"
      ]
     },
     "execution_count": 89,
     "metadata": {},
     "output_type": "execute_result"
    }
   ],
   "source": [
    "Product_without_prices"
   ]
  },
  {
   "cell_type": "markdown",
   "metadata": {},
   "source": [
    "# Product with Prices"
   ]
  },
  {
   "cell_type": "code",
   "execution_count": 90,
   "metadata": {},
   "outputs": [],
   "source": [
    "Product_with_prices=df.loc[df['price_string'].notnull()]"
   ]
  },
  {
   "cell_type": "code",
   "execution_count": 91,
   "metadata": {},
   "outputs": [
    {
     "data": {
      "text/html": [
       "<div>\n",
       "<style scoped>\n",
       "    .dataframe tbody tr th:only-of-type {\n",
       "        vertical-align: middle;\n",
       "    }\n",
       "\n",
       "    .dataframe tbody tr th {\n",
       "        vertical-align: top;\n",
       "    }\n",
       "\n",
       "    .dataframe thead th {\n",
       "        text-align: right;\n",
       "    }\n",
       "</style>\n",
       "<table border=\"1\" class=\"dataframe\">\n",
       "  <thead>\n",
       "    <tr style=\"text-align: right;\">\n",
       "      <th></th>\n",
       "      <th>uuid</th>\n",
       "      <th>price_string</th>\n",
       "      <th>price_string_unf</th>\n",
       "      <th>product_type</th>\n",
       "      <th>level_1</th>\n",
       "      <th>category</th>\n",
       "    </tr>\n",
       "  </thead>\n",
       "  <tbody>\n",
       "    <tr>\n",
       "      <th>2</th>\n",
       "      <td>acbd66ff-79f8-467a-91f9-108a45af5626</td>\n",
       "      <td>$19.95</td>\n",
       "      <td>NaN</td>\n",
       "      <td>R3VtbWllcyB2aXRhbWlucyBhbmQgbWluZXJhbHMgZm9yIG...</td>\n",
       "      <td>SW1tdW5pdHkgZ3VtbWllcw</td>\n",
       "      <td>SGVhbHRo</td>\n",
       "    </tr>\n",
       "    <tr>\n",
       "      <th>3</th>\n",
       "      <td>963915d6-b2e3-4098-b242-9410593cf205</td>\n",
       "      <td>$92.00</td>\n",
       "      <td>NaN</td>\n",
       "      <td>U2VydW1z</td>\n",
       "      <td>RmFjZSBTZXJ1bQ</td>\n",
       "      <td>YmVhdXR5IGFuZCBwZXJzb25hbCBjYXJl</td>\n",
       "    </tr>\n",
       "    <tr>\n",
       "      <th>4</th>\n",
       "      <td>b5b68f3c-b1e0-40e5-8ee5-e2f7236c1daf</td>\n",
       "      <td>11.50</td>\n",
       "      <td>NaN</td>\n",
       "      <td>RWF0aW5nIFV0ZW5zaWxzL0N1dGxlcnk</td>\n",
       "      <td>Q2hvcHN0aWNrcw</td>\n",
       "      <td>a2l0Y2hpbmcgYW5kIGRpbmluZw</td>\n",
       "    </tr>\n",
       "    <tr>\n",
       "      <th>6</th>\n",
       "      <td>9599f1a9-d406-43eb-89f5-9b1c0af1ac9a</td>\n",
       "      <td>$24.99</td>\n",
       "      <td>NaN</td>\n",
       "      <td>TW9wcyBhbmQgYnJvb21z</td>\n",
       "      <td>TW9w</td>\n",
       "      <td>SG91c2Vob2xkIGFuZCBDbGVhbmluZw</td>\n",
       "    </tr>\n",
       "    <tr>\n",
       "      <th>7</th>\n",
       "      <td>35799087-f6f4-4ca2-abfe-cbb5c27d2f1a</td>\n",
       "      <td>$148.00</td>\n",
       "      <td>NaN</td>\n",
       "      <td>V29tZW5zIFBhbnRz</td>\n",
       "      <td>V29tZW5zIFJlZ3VsYXIvQ2FzdWFsIFBhbnRz</td>\n",
       "      <td>Q2xvdGhpbmcgYW5kIEFjY2Vzc29yaWVz</td>\n",
       "    </tr>\n",
       "    <tr>\n",
       "      <th>...</th>\n",
       "      <td>...</td>\n",
       "      <td>...</td>\n",
       "      <td>...</td>\n",
       "      <td>...</td>\n",
       "      <td>...</td>\n",
       "      <td>...</td>\n",
       "    </tr>\n",
       "    <tr>\n",
       "      <th>13729987</th>\n",
       "      <td>e12c3fe8-2987-4e95-93b2-14e173d8028a</td>\n",
       "      <td>$32.99</td>\n",
       "      <td>NaN</td>\n",
       "      <td>UGxhbnQgYmFzZWQgUHJvdGVpbiBTdXBwbGVtZW50cw</td>\n",
       "      <td>UGxhbnQgYmFzZWQgUHJvdGVpbiBTdXBwbGVtZW50cw</td>\n",
       "      <td>SGVhbHRo</td>\n",
       "    </tr>\n",
       "    <tr>\n",
       "      <th>13729989</th>\n",
       "      <td>544416c3-4845-4427-b27b-d3ca9beca970</td>\n",
       "      <td>$34.00</td>\n",
       "      <td>NaN</td>\n",
       "      <td>U3Vuc2NyZWVu</td>\n",
       "      <td>VmVnYW4gU3Vuc2NyZWVu</td>\n",
       "      <td>YmVhdXR5IGFuZCBwZXJzb25hbCBjYXJl</td>\n",
       "    </tr>\n",
       "    <tr>\n",
       "      <th>13729994</th>\n",
       "      <td>f0ec31d4-3283-4931-af8b-6fb9fdb8b1aa</td>\n",
       "      <td>$86.00</td>\n",
       "      <td>NaN</td>\n",
       "      <td>RmFjaWFsIENsZWFuc2Vycw</td>\n",
       "      <td>TWlsayBDbGVhbnNlcg</td>\n",
       "      <td>YmVhdXR5IGFuZCBwZXJzb25hbCBjYXJl</td>\n",
       "    </tr>\n",
       "    <tr>\n",
       "      <th>13729996</th>\n",
       "      <td>fcaedae7-dc20-4da1-b4ae-77368c973088</td>\n",
       "      <td>$69.99</td>\n",
       "      <td>NaN</td>\n",
       "      <td>Um9vbSBkZWNvcg</td>\n",
       "      <td>UGxhbnRlcnMvVmFzZXM</td>\n",
       "      <td>SG91c2Vob2xkIGFuZCBDbGVhbmluZw</td>\n",
       "    </tr>\n",
       "    <tr>\n",
       "      <th>13729999</th>\n",
       "      <td>0f4550de-1f33-48b5-a5ef-fc5e39df208e</td>\n",
       "      <td>$55.00</td>\n",
       "      <td>NaN</td>\n",
       "      <td>TG9hZmVycy8gT3hmb3Jkcw</td>\n",
       "      <td>d29tZW5zIE94Zm9yZHMgYW5kIExvYWZlcnM</td>\n",
       "      <td>Q2xvdGhpbmcgYW5kIEFjY2Vzc29yaWVz</td>\n",
       "    </tr>\n",
       "  </tbody>\n",
       "</table>\n",
       "<p>5510000 rows × 6 columns</p>\n",
       "</div>"
      ],
      "text/plain": [
       "                                          uuid price_string price_string_unf  \\\n",
       "2         acbd66ff-79f8-467a-91f9-108a45af5626       $19.95              NaN   \n",
       "3         963915d6-b2e3-4098-b242-9410593cf205       $92.00              NaN   \n",
       "4         b5b68f3c-b1e0-40e5-8ee5-e2f7236c1daf        11.50              NaN   \n",
       "6         9599f1a9-d406-43eb-89f5-9b1c0af1ac9a       $24.99              NaN   \n",
       "7         35799087-f6f4-4ca2-abfe-cbb5c27d2f1a      $148.00              NaN   \n",
       "...                                        ...          ...              ...   \n",
       "13729987  e12c3fe8-2987-4e95-93b2-14e173d8028a       $32.99              NaN   \n",
       "13729989  544416c3-4845-4427-b27b-d3ca9beca970       $34.00              NaN   \n",
       "13729994  f0ec31d4-3283-4931-af8b-6fb9fdb8b1aa       $86.00              NaN   \n",
       "13729996  fcaedae7-dc20-4da1-b4ae-77368c973088       $69.99              NaN   \n",
       "13729999  0f4550de-1f33-48b5-a5ef-fc5e39df208e       $55.00              NaN   \n",
       "\n",
       "                                               product_type  \\\n",
       "2         R3VtbWllcyB2aXRhbWlucyBhbmQgbWluZXJhbHMgZm9yIG...   \n",
       "3                                                  U2VydW1z   \n",
       "4                           RWF0aW5nIFV0ZW5zaWxzL0N1dGxlcnk   \n",
       "6                                      TW9wcyBhbmQgYnJvb21z   \n",
       "7                                          V29tZW5zIFBhbnRz   \n",
       "...                                                     ...   \n",
       "13729987         UGxhbnQgYmFzZWQgUHJvdGVpbiBTdXBwbGVtZW50cw   \n",
       "13729989                                       U3Vuc2NyZWVu   \n",
       "13729994                             RmFjaWFsIENsZWFuc2Vycw   \n",
       "13729996                                     Um9vbSBkZWNvcg   \n",
       "13729999                             TG9hZmVycy8gT3hmb3Jkcw   \n",
       "\n",
       "                                             level_1  \\\n",
       "2                             SW1tdW5pdHkgZ3VtbWllcw   \n",
       "3                                     RmFjZSBTZXJ1bQ   \n",
       "4                                     Q2hvcHN0aWNrcw   \n",
       "6                                               TW9w   \n",
       "7               V29tZW5zIFJlZ3VsYXIvQ2FzdWFsIFBhbnRz   \n",
       "...                                              ...   \n",
       "13729987  UGxhbnQgYmFzZWQgUHJvdGVpbiBTdXBwbGVtZW50cw   \n",
       "13729989                        VmVnYW4gU3Vuc2NyZWVu   \n",
       "13729994                          TWlsayBDbGVhbnNlcg   \n",
       "13729996                         UGxhbnRlcnMvVmFzZXM   \n",
       "13729999         d29tZW5zIE94Zm9yZHMgYW5kIExvYWZlcnM   \n",
       "\n",
       "                                  category  \n",
       "2                                 SGVhbHRo  \n",
       "3         YmVhdXR5IGFuZCBwZXJzb25hbCBjYXJl  \n",
       "4               a2l0Y2hpbmcgYW5kIGRpbmluZw  \n",
       "6           SG91c2Vob2xkIGFuZCBDbGVhbmluZw  \n",
       "7         Q2xvdGhpbmcgYW5kIEFjY2Vzc29yaWVz  \n",
       "...                                    ...  \n",
       "13729987                          SGVhbHRo  \n",
       "13729989  YmVhdXR5IGFuZCBwZXJzb25hbCBjYXJl  \n",
       "13729994  YmVhdXR5IGFuZCBwZXJzb25hbCBjYXJl  \n",
       "13729996    SG91c2Vob2xkIGFuZCBDbGVhbmluZw  \n",
       "13729999  Q2xvdGhpbmcgYW5kIEFjY2Vzc29yaWVz  \n",
       "\n",
       "[5510000 rows x 6 columns]"
      ]
     },
     "execution_count": 91,
     "metadata": {},
     "output_type": "execute_result"
    }
   ],
   "source": [
    "Product_with_prices"
   ]
  },
  {
   "cell_type": "markdown",
   "metadata": {},
   "source": [
    "# Query 2=>"
   ]
  },
  {
   "cell_type": "markdown",
   "metadata": {},
   "source": [
    "## Count of products without prices in Each Product Type,Category,Level1"
   ]
  },
  {
   "cell_type": "code",
   "execution_count": 92,
   "metadata": {},
   "outputs": [],
   "source": [
    "#Count of products without prices in Each Product Type,Category,Level1\n",
    "count_product_without_prices_product_type=Product_without_prices.groupby(['product_type']).size().reset_index(name='count of products')"
   ]
  },
  {
   "cell_type": "code",
   "execution_count": 93,
   "metadata": {},
   "outputs": [],
   "source": [
    "count_product_without_prices_category=Product_without_prices.groupby(['category']).size().reset_index(name='count of products')\n",
    "count_product_without_prices_level_1=Product_without_prices.groupby(['level_1']).size().reset_index(name='count of products')\n",
    "\n"
   ]
  },
  {
   "cell_type": "code",
   "execution_count": 94,
   "metadata": {},
   "outputs": [
    {
     "data": {
      "text/html": [
       "<div>\n",
       "<style scoped>\n",
       "    .dataframe tbody tr th:only-of-type {\n",
       "        vertical-align: middle;\n",
       "    }\n",
       "\n",
       "    .dataframe tbody tr th {\n",
       "        vertical-align: top;\n",
       "    }\n",
       "\n",
       "    .dataframe thead th {\n",
       "        text-align: right;\n",
       "    }\n",
       "</style>\n",
       "<table border=\"1\" class=\"dataframe\">\n",
       "  <thead>\n",
       "    <tr style=\"text-align: right;\">\n",
       "      <th></th>\n",
       "      <th>product_type</th>\n",
       "      <th>count of products</th>\n",
       "    </tr>\n",
       "  </thead>\n",
       "  <tbody>\n",
       "    <tr>\n",
       "      <th>0</th>\n",
       "      <td>Q0FUIExJVFRFUg</td>\n",
       "      <td>30000</td>\n",
       "    </tr>\n",
       "    <tr>\n",
       "      <th>1</th>\n",
       "      <td>Q29mZmVlIEJlYW5z</td>\n",
       "      <td>50000</td>\n",
       "    </tr>\n",
       "    <tr>\n",
       "      <th>2</th>\n",
       "      <td>Q29mZmVlIEZpbHRlcnM</td>\n",
       "      <td>10000</td>\n",
       "    </tr>\n",
       "    <tr>\n",
       "      <th>3</th>\n",
       "      <td>Q29uZGl0aW9uZXIgSGFpcg</td>\n",
       "      <td>20000</td>\n",
       "    </tr>\n",
       "    <tr>\n",
       "      <th>4</th>\n",
       "      <td>Q29va2llcw</td>\n",
       "      <td>30000</td>\n",
       "    </tr>\n",
       "    <tr>\n",
       "      <th>...</th>\n",
       "      <td>...</td>\n",
       "      <td>...</td>\n",
       "    </tr>\n",
       "    <tr>\n",
       "      <th>273</th>\n",
       "      <td>cGV0IEJsYW5rZXQ</td>\n",
       "      <td>10000</td>\n",
       "    </tr>\n",
       "    <tr>\n",
       "      <th>274</th>\n",
       "      <td>cGV0IFN0YWluIGFuZCBvZG9yIGVsaW1pbmF0b3I</td>\n",
       "      <td>10000</td>\n",
       "    </tr>\n",
       "    <tr>\n",
       "      <th>275</th>\n",
       "      <td>d29tZW5zIE91dGVyd2Vhcg</td>\n",
       "      <td>20000</td>\n",
       "    </tr>\n",
       "    <tr>\n",
       "      <th>276</th>\n",
       "      <td>d29tZW5zIFdhbGxldA</td>\n",
       "      <td>10000</td>\n",
       "    </tr>\n",
       "    <tr>\n",
       "      <th>277</th>\n",
       "      <td>d29tZW5zIHN3ZWF0ZXJz</td>\n",
       "      <td>90000</td>\n",
       "    </tr>\n",
       "  </tbody>\n",
       "</table>\n",
       "<p>278 rows × 2 columns</p>\n",
       "</div>"
      ],
      "text/plain": [
       "                                product_type  count of products\n",
       "0                             Q0FUIExJVFRFUg              30000\n",
       "1                           Q29mZmVlIEJlYW5z              50000\n",
       "2                        Q29mZmVlIEZpbHRlcnM              10000\n",
       "3                     Q29uZGl0aW9uZXIgSGFpcg              20000\n",
       "4                                 Q29va2llcw              30000\n",
       "..                                       ...                ...\n",
       "273                          cGV0IEJsYW5rZXQ              10000\n",
       "274  cGV0IFN0YWluIGFuZCBvZG9yIGVsaW1pbmF0b3I              10000\n",
       "275                   d29tZW5zIE91dGVyd2Vhcg              20000\n",
       "276                       d29tZW5zIFdhbGxldA              10000\n",
       "277                     d29tZW5zIHN3ZWF0ZXJz              90000\n",
       "\n",
       "[278 rows x 2 columns]"
      ]
     },
     "execution_count": 94,
     "metadata": {},
     "output_type": "execute_result"
    }
   ],
   "source": [
    "count_product_without_prices_product_type"
   ]
  },
  {
   "cell_type": "code",
   "execution_count": 95,
   "metadata": {},
   "outputs": [
    {
     "data": {
      "text/html": [
       "<div>\n",
       "<style scoped>\n",
       "    .dataframe tbody tr th:only-of-type {\n",
       "        vertical-align: middle;\n",
       "    }\n",
       "\n",
       "    .dataframe tbody tr th {\n",
       "        vertical-align: top;\n",
       "    }\n",
       "\n",
       "    .dataframe thead th {\n",
       "        text-align: right;\n",
       "    }\n",
       "</style>\n",
       "<table border=\"1\" class=\"dataframe\">\n",
       "  <thead>\n",
       "    <tr style=\"text-align: right;\">\n",
       "      <th></th>\n",
       "      <th>category</th>\n",
       "      <th>count of products</th>\n",
       "    </tr>\n",
       "  </thead>\n",
       "  <tbody>\n",
       "    <tr>\n",
       "      <th>0</th>\n",
       "      <td>Q2xvdGhpbmcgYW5kIEFjY2Vzc29yaWVz</td>\n",
       "      <td>2050000</td>\n",
       "    </tr>\n",
       "    <tr>\n",
       "      <th>1</th>\n",
       "      <td>QXJ0IHN1cHBsaWVz</td>\n",
       "      <td>130000</td>\n",
       "    </tr>\n",
       "    <tr>\n",
       "      <th>2</th>\n",
       "      <td>QmFieWNhcmU</td>\n",
       "      <td>570000</td>\n",
       "    </tr>\n",
       "    <tr>\n",
       "      <th>3</th>\n",
       "      <td>RWxlY3Ryb25pY3M</td>\n",
       "      <td>210000</td>\n",
       "    </tr>\n",
       "    <tr>\n",
       "      <th>4</th>\n",
       "      <td>SG91c2Vob2xkIGFuZCBDbGVhbmluZw</td>\n",
       "      <td>870000</td>\n",
       "    </tr>\n",
       "    <tr>\n",
       "      <th>5</th>\n",
       "      <td>SGVhbHRo</td>\n",
       "      <td>700000</td>\n",
       "    </tr>\n",
       "    <tr>\n",
       "      <th>6</th>\n",
       "      <td>VG95cyBhbmQgR2FtZXM</td>\n",
       "      <td>600000</td>\n",
       "    </tr>\n",
       "    <tr>\n",
       "      <th>7</th>\n",
       "      <td>VG9vbHMgYW5kIGhvbWUgaW1wcm92ZW1lbnQ</td>\n",
       "      <td>320000</td>\n",
       "    </tr>\n",
       "    <tr>\n",
       "      <th>8</th>\n",
       "      <td>YmVhdXR5IGFuZCBwZXJzb25hbCBjYXJl</td>\n",
       "      <td>720000</td>\n",
       "    </tr>\n",
       "    <tr>\n",
       "      <th>9</th>\n",
       "      <td>Z3JvY2VyaWVz</td>\n",
       "      <td>1130000</td>\n",
       "    </tr>\n",
       "    <tr>\n",
       "      <th>10</th>\n",
       "      <td>a2l0Y2hpbmcgYW5kIGRpbmluZw</td>\n",
       "      <td>250000</td>\n",
       "    </tr>\n",
       "    <tr>\n",
       "      <th>11</th>\n",
       "      <td>b2ZmaWNlIHByb2R1Y3Rz</td>\n",
       "      <td>80000</td>\n",
       "    </tr>\n",
       "    <tr>\n",
       "      <th>12</th>\n",
       "      <td>cGV0IHN1cHBsaWVz</td>\n",
       "      <td>580000</td>\n",
       "    </tr>\n",
       "  </tbody>\n",
       "</table>\n",
       "</div>"
      ],
      "text/plain": [
       "                               category  count of products\n",
       "0      Q2xvdGhpbmcgYW5kIEFjY2Vzc29yaWVz            2050000\n",
       "1                      QXJ0IHN1cHBsaWVz             130000\n",
       "2                           QmFieWNhcmU             570000\n",
       "3                       RWxlY3Ryb25pY3M             210000\n",
       "4        SG91c2Vob2xkIGFuZCBDbGVhbmluZw             870000\n",
       "5                              SGVhbHRo             700000\n",
       "6                   VG95cyBhbmQgR2FtZXM             600000\n",
       "7   VG9vbHMgYW5kIGhvbWUgaW1wcm92ZW1lbnQ             320000\n",
       "8      YmVhdXR5IGFuZCBwZXJzb25hbCBjYXJl             720000\n",
       "9                          Z3JvY2VyaWVz            1130000\n",
       "10           a2l0Y2hpbmcgYW5kIGRpbmluZw             250000\n",
       "11                 b2ZmaWNlIHByb2R1Y3Rz              80000\n",
       "12                     cGV0IHN1cHBsaWVz             580000"
      ]
     },
     "execution_count": 95,
     "metadata": {},
     "output_type": "execute_result"
    }
   ],
   "source": [
    "count_product_without_prices_category"
   ]
  },
  {
   "cell_type": "code",
   "execution_count": 96,
   "metadata": {},
   "outputs": [
    {
     "data": {
      "text/html": [
       "<div>\n",
       "<style scoped>\n",
       "    .dataframe tbody tr th:only-of-type {\n",
       "        vertical-align: middle;\n",
       "    }\n",
       "\n",
       "    .dataframe tbody tr th {\n",
       "        vertical-align: top;\n",
       "    }\n",
       "\n",
       "    .dataframe thead th {\n",
       "        text-align: right;\n",
       "    }\n",
       "</style>\n",
       "<table border=\"1\" class=\"dataframe\">\n",
       "  <thead>\n",
       "    <tr style=\"text-align: right;\">\n",
       "      <th></th>\n",
       "      <th>level_1</th>\n",
       "      <th>count of products</th>\n",
       "    </tr>\n",
       "  </thead>\n",
       "  <tbody>\n",
       "    <tr>\n",
       "      <th>0</th>\n",
       "      <td>MjAgUGludHM</td>\n",
       "      <td>20000</td>\n",
       "    </tr>\n",
       "    <tr>\n",
       "      <th>1</th>\n",
       "      <td>MzAtIDM1IFBpbnRz</td>\n",
       "      <td>10000</td>\n",
       "    </tr>\n",
       "    <tr>\n",
       "      <th>2</th>\n",
       "      <td>NTAgUGludHM</td>\n",
       "      <td>20000</td>\n",
       "    </tr>\n",
       "    <tr>\n",
       "      <th>3</th>\n",
       "      <td>Q0FUIExJVFRFUg</td>\n",
       "      <td>30000</td>\n",
       "    </tr>\n",
       "    <tr>\n",
       "      <th>4</th>\n",
       "      <td>Q290dG9uIFBhZHM</td>\n",
       "      <td>20000</td>\n",
       "    </tr>\n",
       "    <tr>\n",
       "      <th>...</th>\n",
       "      <td>...</td>\n",
       "      <td>...</td>\n",
       "    </tr>\n",
       "    <tr>\n",
       "      <th>471</th>\n",
       "      <td>d29tZW5zIFNhbmRhbHMvU2xpcCBvbnM</td>\n",
       "      <td>20000</td>\n",
       "    </tr>\n",
       "    <tr>\n",
       "      <th>472</th>\n",
       "      <td>d29tZW5zIFdhbGxldA</td>\n",
       "      <td>10000</td>\n",
       "    </tr>\n",
       "    <tr>\n",
       "      <th>473</th>\n",
       "      <td>d29tZW5zIGJvb3Rz</td>\n",
       "      <td>20000</td>\n",
       "    </tr>\n",
       "    <tr>\n",
       "      <th>474</th>\n",
       "      <td>eW9nYSBCbG9ja3M</td>\n",
       "      <td>10000</td>\n",
       "    </tr>\n",
       "    <tr>\n",
       "      <th>475</th>\n",
       "      <td>eW9nYSBib2xzdGVycw</td>\n",
       "      <td>10000</td>\n",
       "    </tr>\n",
       "  </tbody>\n",
       "</table>\n",
       "<p>476 rows × 2 columns</p>\n",
       "</div>"
      ],
      "text/plain": [
       "                             level_1  count of products\n",
       "0                        MjAgUGludHM              20000\n",
       "1                   MzAtIDM1IFBpbnRz              10000\n",
       "2                        NTAgUGludHM              20000\n",
       "3                     Q0FUIExJVFRFUg              30000\n",
       "4                    Q290dG9uIFBhZHM              20000\n",
       "..                               ...                ...\n",
       "471  d29tZW5zIFNhbmRhbHMvU2xpcCBvbnM              20000\n",
       "472               d29tZW5zIFdhbGxldA              10000\n",
       "473                 d29tZW5zIGJvb3Rz              20000\n",
       "474                  eW9nYSBCbG9ja3M              10000\n",
       "475               eW9nYSBib2xzdGVycw              10000\n",
       "\n",
       "[476 rows x 2 columns]"
      ]
     },
     "execution_count": 96,
     "metadata": {},
     "output_type": "execute_result"
    }
   ],
   "source": [
    "count_product_without_prices_level_1"
   ]
  },
  {
   "cell_type": "markdown",
   "metadata": {},
   "source": [
    "## Count of products with prices in Each Product Type,Category,Level1"
   ]
  },
  {
   "cell_type": "code",
   "execution_count": 97,
   "metadata": {},
   "outputs": [],
   "source": [
    "#Count of products without prices in Each Product Type,Category,Level1\n",
    "count_product_with_prices_product_type=Product_with_prices.groupby(['product_type']).size().reset_index(name='count of products')\n",
    "count_product_with_prices_category=Product_with_prices.groupby(['category']).size().reset_index(name='count of products')\n",
    "count_product_with_prices_level_1=Product_with_prices.groupby(['level_1']).size().reset_index(name='count of products')"
   ]
  },
  {
   "cell_type": "code",
   "execution_count": 98,
   "metadata": {},
   "outputs": [
    {
     "data": {
      "text/html": [
       "<div>\n",
       "<style scoped>\n",
       "    .dataframe tbody tr th:only-of-type {\n",
       "        vertical-align: middle;\n",
       "    }\n",
       "\n",
       "    .dataframe tbody tr th {\n",
       "        vertical-align: top;\n",
       "    }\n",
       "\n",
       "    .dataframe thead th {\n",
       "        text-align: right;\n",
       "    }\n",
       "</style>\n",
       "<table border=\"1\" class=\"dataframe\">\n",
       "  <thead>\n",
       "    <tr style=\"text-align: right;\">\n",
       "      <th></th>\n",
       "      <th>product_type</th>\n",
       "      <th>count of products</th>\n",
       "    </tr>\n",
       "  </thead>\n",
       "  <tbody>\n",
       "    <tr>\n",
       "      <th>0</th>\n",
       "      <td>Q29mZmVlIEJlYW5z</td>\n",
       "      <td>30000</td>\n",
       "    </tr>\n",
       "    <tr>\n",
       "      <th>1</th>\n",
       "      <td>Q29uZGl0aW9uZXIgSGFpcg</td>\n",
       "      <td>10000</td>\n",
       "    </tr>\n",
       "    <tr>\n",
       "      <th>2</th>\n",
       "      <td>Q29va2luZyBPaWw</td>\n",
       "      <td>70000</td>\n",
       "    </tr>\n",
       "    <tr>\n",
       "      <th>3</th>\n",
       "      <td>Q29va2luZyBVdGVuc2lscw</td>\n",
       "      <td>110000</td>\n",
       "    </tr>\n",
       "    <tr>\n",
       "      <th>4</th>\n",
       "      <td>Q2FuZGxlcy9GcmFnbmFuY2Vz</td>\n",
       "      <td>40000</td>\n",
       "    </tr>\n",
       "    <tr>\n",
       "      <th>...</th>\n",
       "      <td>...</td>\n",
       "      <td>...</td>\n",
       "    </tr>\n",
       "    <tr>\n",
       "      <th>204</th>\n",
       "      <td>cGV0IEJlZC9NYXR0cmVzc2Vz</td>\n",
       "      <td>10000</td>\n",
       "    </tr>\n",
       "    <tr>\n",
       "      <th>205</th>\n",
       "      <td>cGV0IEJsYW5rZXQ</td>\n",
       "      <td>10000</td>\n",
       "    </tr>\n",
       "    <tr>\n",
       "      <th>206</th>\n",
       "      <td>d29tZW5zIE91dGVyd2Vhcg</td>\n",
       "      <td>130000</td>\n",
       "    </tr>\n",
       "    <tr>\n",
       "      <th>207</th>\n",
       "      <td>d29tZW5zIFdhbGxldA</td>\n",
       "      <td>20000</td>\n",
       "    </tr>\n",
       "    <tr>\n",
       "      <th>208</th>\n",
       "      <td>d29tZW5zIHN3ZWF0ZXJz</td>\n",
       "      <td>30000</td>\n",
       "    </tr>\n",
       "  </tbody>\n",
       "</table>\n",
       "<p>209 rows × 2 columns</p>\n",
       "</div>"
      ],
      "text/plain": [
       "                 product_type  count of products\n",
       "0            Q29mZmVlIEJlYW5z              30000\n",
       "1      Q29uZGl0aW9uZXIgSGFpcg              10000\n",
       "2             Q29va2luZyBPaWw              70000\n",
       "3      Q29va2luZyBVdGVuc2lscw             110000\n",
       "4    Q2FuZGxlcy9GcmFnbmFuY2Vz              40000\n",
       "..                        ...                ...\n",
       "204  cGV0IEJlZC9NYXR0cmVzc2Vz              10000\n",
       "205           cGV0IEJsYW5rZXQ              10000\n",
       "206    d29tZW5zIE91dGVyd2Vhcg             130000\n",
       "207        d29tZW5zIFdhbGxldA              20000\n",
       "208      d29tZW5zIHN3ZWF0ZXJz              30000\n",
       "\n",
       "[209 rows x 2 columns]"
      ]
     },
     "execution_count": 98,
     "metadata": {},
     "output_type": "execute_result"
    }
   ],
   "source": [
    "count_product_with_prices_product_type"
   ]
  },
  {
   "cell_type": "code",
   "execution_count": 99,
   "metadata": {},
   "outputs": [
    {
     "data": {
      "text/html": [
       "<div>\n",
       "<style scoped>\n",
       "    .dataframe tbody tr th:only-of-type {\n",
       "        vertical-align: middle;\n",
       "    }\n",
       "\n",
       "    .dataframe tbody tr th {\n",
       "        vertical-align: top;\n",
       "    }\n",
       "\n",
       "    .dataframe thead th {\n",
       "        text-align: right;\n",
       "    }\n",
       "</style>\n",
       "<table border=\"1\" class=\"dataframe\">\n",
       "  <thead>\n",
       "    <tr style=\"text-align: right;\">\n",
       "      <th></th>\n",
       "      <th>category</th>\n",
       "      <th>count of products</th>\n",
       "    </tr>\n",
       "  </thead>\n",
       "  <tbody>\n",
       "    <tr>\n",
       "      <th>0</th>\n",
       "      <td>Q2xvdGhpbmcgYW5kIEFjY2Vzc29yaWVz</td>\n",
       "      <td>2050000</td>\n",
       "    </tr>\n",
       "    <tr>\n",
       "      <th>1</th>\n",
       "      <td>QXJ0IHN1cHBsaWVz</td>\n",
       "      <td>130000</td>\n",
       "    </tr>\n",
       "    <tr>\n",
       "      <th>2</th>\n",
       "      <td>QmFieWNhcmU</td>\n",
       "      <td>570000</td>\n",
       "    </tr>\n",
       "    <tr>\n",
       "      <th>3</th>\n",
       "      <td>RWxlY3Ryb25pY3M</td>\n",
       "      <td>210000</td>\n",
       "    </tr>\n",
       "    <tr>\n",
       "      <th>4</th>\n",
       "      <td>SG91c2Vob2xkIGFuZCBDbGVhbmluZw</td>\n",
       "      <td>870000</td>\n",
       "    </tr>\n",
       "    <tr>\n",
       "      <th>5</th>\n",
       "      <td>SGVhbHRo</td>\n",
       "      <td>700000</td>\n",
       "    </tr>\n",
       "    <tr>\n",
       "      <th>6</th>\n",
       "      <td>VG95cyBhbmQgR2FtZXM</td>\n",
       "      <td>600000</td>\n",
       "    </tr>\n",
       "    <tr>\n",
       "      <th>7</th>\n",
       "      <td>VG9vbHMgYW5kIGhvbWUgaW1wcm92ZW1lbnQ</td>\n",
       "      <td>320000</td>\n",
       "    </tr>\n",
       "    <tr>\n",
       "      <th>8</th>\n",
       "      <td>YmVhdXR5IGFuZCBwZXJzb25hbCBjYXJl</td>\n",
       "      <td>720000</td>\n",
       "    </tr>\n",
       "    <tr>\n",
       "      <th>9</th>\n",
       "      <td>Z3JvY2VyaWVz</td>\n",
       "      <td>1130000</td>\n",
       "    </tr>\n",
       "    <tr>\n",
       "      <th>10</th>\n",
       "      <td>a2l0Y2hpbmcgYW5kIGRpbmluZw</td>\n",
       "      <td>250000</td>\n",
       "    </tr>\n",
       "    <tr>\n",
       "      <th>11</th>\n",
       "      <td>b2ZmaWNlIHByb2R1Y3Rz</td>\n",
       "      <td>80000</td>\n",
       "    </tr>\n",
       "    <tr>\n",
       "      <th>12</th>\n",
       "      <td>cGV0IHN1cHBsaWVz</td>\n",
       "      <td>580000</td>\n",
       "    </tr>\n",
       "  </tbody>\n",
       "</table>\n",
       "</div>"
      ],
      "text/plain": [
       "                               category  count of products\n",
       "0      Q2xvdGhpbmcgYW5kIEFjY2Vzc29yaWVz            2050000\n",
       "1                      QXJ0IHN1cHBsaWVz             130000\n",
       "2                           QmFieWNhcmU             570000\n",
       "3                       RWxlY3Ryb25pY3M             210000\n",
       "4        SG91c2Vob2xkIGFuZCBDbGVhbmluZw             870000\n",
       "5                              SGVhbHRo             700000\n",
       "6                   VG95cyBhbmQgR2FtZXM             600000\n",
       "7   VG9vbHMgYW5kIGhvbWUgaW1wcm92ZW1lbnQ             320000\n",
       "8      YmVhdXR5IGFuZCBwZXJzb25hbCBjYXJl             720000\n",
       "9                          Z3JvY2VyaWVz            1130000\n",
       "10           a2l0Y2hpbmcgYW5kIGRpbmluZw             250000\n",
       "11                 b2ZmaWNlIHByb2R1Y3Rz              80000\n",
       "12                     cGV0IHN1cHBsaWVz             580000"
      ]
     },
     "execution_count": 99,
     "metadata": {},
     "output_type": "execute_result"
    }
   ],
   "source": [
    "count_product_without_prices_category"
   ]
  },
  {
   "cell_type": "code",
   "execution_count": 100,
   "metadata": {},
   "outputs": [
    {
     "data": {
      "text/html": [
       "<div>\n",
       "<style scoped>\n",
       "    .dataframe tbody tr th:only-of-type {\n",
       "        vertical-align: middle;\n",
       "    }\n",
       "\n",
       "    .dataframe tbody tr th {\n",
       "        vertical-align: top;\n",
       "    }\n",
       "\n",
       "    .dataframe thead th {\n",
       "        text-align: right;\n",
       "    }\n",
       "</style>\n",
       "<table border=\"1\" class=\"dataframe\">\n",
       "  <thead>\n",
       "    <tr style=\"text-align: right;\">\n",
       "      <th></th>\n",
       "      <th>level_1</th>\n",
       "      <th>count of products</th>\n",
       "    </tr>\n",
       "  </thead>\n",
       "  <tbody>\n",
       "    <tr>\n",
       "      <th>0</th>\n",
       "      <td>MTAgQ3Vw</td>\n",
       "      <td>10000</td>\n",
       "    </tr>\n",
       "    <tr>\n",
       "      <th>1</th>\n",
       "      <td>MjAgQ3Vw</td>\n",
       "      <td>10000</td>\n",
       "    </tr>\n",
       "    <tr>\n",
       "      <th>2</th>\n",
       "      <td>MjAgUGludHM</td>\n",
       "      <td>10000</td>\n",
       "    </tr>\n",
       "    <tr>\n",
       "      <th>3</th>\n",
       "      <td>MzAgQ3Vw</td>\n",
       "      <td>10000</td>\n",
       "    </tr>\n",
       "    <tr>\n",
       "      <th>4</th>\n",
       "      <td>MzAtIDM1IFBpbnRz</td>\n",
       "      <td>10000</td>\n",
       "    </tr>\n",
       "    <tr>\n",
       "      <th>...</th>\n",
       "      <td>...</td>\n",
       "      <td>...</td>\n",
       "    </tr>\n",
       "    <tr>\n",
       "      <th>361</th>\n",
       "      <td>d29tZW5zIGJvb3Rz</td>\n",
       "      <td>20000</td>\n",
       "    </tr>\n",
       "    <tr>\n",
       "      <th>362</th>\n",
       "      <td>d29tZW5zIGhlZWxz</td>\n",
       "      <td>10000</td>\n",
       "    </tr>\n",
       "    <tr>\n",
       "      <th>363</th>\n",
       "      <td>eW9nYSBCbG9ja3M</td>\n",
       "      <td>20000</td>\n",
       "    </tr>\n",
       "    <tr>\n",
       "      <th>364</th>\n",
       "      <td>eW9nYSBib2xzdGVycw</td>\n",
       "      <td>10000</td>\n",
       "    </tr>\n",
       "    <tr>\n",
       "      <th>365</th>\n",
       "      <td>eW9nYSBzdHJhcHM</td>\n",
       "      <td>30000</td>\n",
       "    </tr>\n",
       "  </tbody>\n",
       "</table>\n",
       "<p>366 rows × 2 columns</p>\n",
       "</div>"
      ],
      "text/plain": [
       "                level_1  count of products\n",
       "0              MTAgQ3Vw              10000\n",
       "1              MjAgQ3Vw              10000\n",
       "2           MjAgUGludHM              10000\n",
       "3              MzAgQ3Vw              10000\n",
       "4      MzAtIDM1IFBpbnRz              10000\n",
       "..                  ...                ...\n",
       "361    d29tZW5zIGJvb3Rz              20000\n",
       "362    d29tZW5zIGhlZWxz              10000\n",
       "363     eW9nYSBCbG9ja3M              20000\n",
       "364  eW9nYSBib2xzdGVycw              10000\n",
       "365     eW9nYSBzdHJhcHM              30000\n",
       "\n",
       "[366 rows x 2 columns]"
      ]
     },
     "execution_count": 100,
     "metadata": {},
     "output_type": "execute_result"
    }
   ],
   "source": [
    "count_product_with_prices_level_1"
   ]
  },
  {
   "cell_type": "markdown",
   "metadata": {},
   "source": [
    "# Query 3=>"
   ]
  },
  {
   "cell_type": "markdown",
   "metadata": {},
   "source": [
    "## Removing $ from price string so as to make it numeric"
   ]
  },
  {
   "cell_type": "code",
   "execution_count": 101,
   "metadata": {},
   "outputs": [
    {
     "name": "stderr",
     "output_type": "stream",
     "text": [
      "C:\\Users\\dhana\\AppData\\Local\\Temp\\ipykernel_21188\\1322997318.py:1: FutureWarning: The default value of regex will change from True to False in a future version. In addition, single character regular expressions will *not* be treated as literal strings when regex=True.\n",
      "  Product_with_prices['price_string'] = Product_with_prices['price_string'].str.replace('$', '')\n",
      "C:\\Users\\dhana\\AppData\\Local\\Temp\\ipykernel_21188\\1322997318.py:1: SettingWithCopyWarning: \n",
      "A value is trying to be set on a copy of a slice from a DataFrame.\n",
      "Try using .loc[row_indexer,col_indexer] = value instead\n",
      "\n",
      "See the caveats in the documentation: https://pandas.pydata.org/pandas-docs/stable/user_guide/indexing.html#returning-a-view-versus-a-copy\n",
      "  Product_with_prices['price_string'] = Product_with_prices['price_string'].str.replace('$', '')\n"
     ]
    }
   ],
   "source": [
    "Product_with_prices['price_string'] = Product_with_prices['price_string'].str.replace('$', '')"
   ]
  },
  {
   "cell_type": "markdown",
   "metadata": {},
   "source": [
    "## Fixing Unfiltered Prices"
   ]
  },
  {
   "cell_type": "code",
   "execution_count": 325,
   "metadata": {},
   "outputs": [],
   "source": [
    "unfiltered=df.loc[df['price_string_unf'].notnull()]\n"
   ]
  },
  {
   "cell_type": "code",
   "execution_count": 326,
   "metadata": {},
   "outputs": [
    {
     "data": {
      "text/html": [
       "<div>\n",
       "<style scoped>\n",
       "    .dataframe tbody tr th:only-of-type {\n",
       "        vertical-align: middle;\n",
       "    }\n",
       "\n",
       "    .dataframe tbody tr th {\n",
       "        vertical-align: top;\n",
       "    }\n",
       "\n",
       "    .dataframe thead th {\n",
       "        text-align: right;\n",
       "    }\n",
       "</style>\n",
       "<table border=\"1\" class=\"dataframe\">\n",
       "  <thead>\n",
       "    <tr style=\"text-align: right;\">\n",
       "      <th></th>\n",
       "      <th>uuid</th>\n",
       "      <th>price_string</th>\n",
       "      <th>price_string_unf</th>\n",
       "      <th>product_type</th>\n",
       "      <th>level_1</th>\n",
       "      <th>category</th>\n",
       "    </tr>\n",
       "  </thead>\n",
       "  <tbody>\n",
       "    <tr>\n",
       "      <th>61</th>\n",
       "      <td>13724827-979f-4019-9ff1-b44e57af5802</td>\n",
       "      <td>NaN</td>\n",
       "      <td>Current price: \\n$359.00</td>\n",
       "      <td>U3Ryb2xsZXJzL0NhciBzZWF0cy8gQWNjZXNzb3JpZXM</td>\n",
       "      <td>Q2FyIHNlYXRz</td>\n",
       "      <td>QmFieWNhcmU</td>\n",
       "    </tr>\n",
       "    <tr>\n",
       "      <th>115</th>\n",
       "      <td>8e4fdac3-afc9-4242-9136-90d13e116724</td>\n",
       "      <td>$6.75</td>\n",
       "      <td>$6.75</td>\n",
       "      <td>Q29mZmVlIEJlYW5z</td>\n",
       "      <td>RGFyayBSb2FzdA</td>\n",
       "      <td>Z3JvY2VyaWVz</td>\n",
       "    </tr>\n",
       "    <tr>\n",
       "      <th>116</th>\n",
       "      <td>53beedf4-ed7c-4407-9081-7ae41f3a7282</td>\n",
       "      <td>$15.00</td>\n",
       "      <td>$15.00</td>\n",
       "      <td>RG91Z2ggSmFy</td>\n",
       "      <td>UGxheWRvdWdoIC8gUGxheWRvaA</td>\n",
       "      <td>VG95cyBhbmQgR2FtZXM</td>\n",
       "    </tr>\n",
       "    <tr>\n",
       "      <th>176</th>\n",
       "      <td>d3a85b19-cf28-413a-b8ee-518622025bdd</td>\n",
       "      <td>$18.95</td>\n",
       "      <td>$18.95</td>\n",
       "      <td>QmFieSBXaXBlcw</td>\n",
       "      <td>QmFieSBXaXBlcw</td>\n",
       "      <td>QmFieWNhcmU</td>\n",
       "    </tr>\n",
       "    <tr>\n",
       "      <th>182</th>\n",
       "      <td>623f06c9-5147-471a-a58f-162caca48a32</td>\n",
       "      <td>$459.99</td>\n",
       "      <td>$459.99</td>\n",
       "      <td>U3Ryb2xsZXJzL0NhciBzZWF0cy8gQWNjZXNzb3JpZXM</td>\n",
       "      <td>Q2FyIHNlYXRz</td>\n",
       "      <td>QmFieWNhcmU</td>\n",
       "    </tr>\n",
       "    <tr>\n",
       "      <th>...</th>\n",
       "      <td>...</td>\n",
       "      <td>...</td>\n",
       "      <td>...</td>\n",
       "      <td>...</td>\n",
       "      <td>...</td>\n",
       "      <td>...</td>\n",
       "    </tr>\n",
       "    <tr>\n",
       "      <th>13729785</th>\n",
       "      <td>05ddee10-cde7-41f7-99d9-d0bc2f43a9cf</td>\n",
       "      <td>$25.00</td>\n",
       "      <td>$25.00</td>\n",
       "      <td>RG91Z2ggS2l0L1Byb2plY3Q</td>\n",
       "      <td>UGxheSBEb3VnaCBLaXQvUHJvamVjdA</td>\n",
       "      <td>VG95cyBhbmQgR2FtZXM</td>\n",
       "    </tr>\n",
       "    <tr>\n",
       "      <th>13729878</th>\n",
       "      <td>548a7381-b382-41db-bf06-4dae79857d87</td>\n",
       "      <td>NaN</td>\n",
       "      <td>$85 USD</td>\n",
       "      <td>TWF0ZXJuaXR5IFdlYXI</td>\n",
       "      <td>TWF0ZXJuaXR5IFNraXJ0</td>\n",
       "      <td>Q2xvdGhpbmcgYW5kIEFjY2Vzc29yaWVz</td>\n",
       "    </tr>\n",
       "    <tr>\n",
       "      <th>13729916</th>\n",
       "      <td>1235c157-0b13-494d-99fb-02b2b386bc78</td>\n",
       "      <td>$10.00</td>\n",
       "      <td>$10.00</td>\n",
       "      <td>UGV0IFRyZWF0cw</td>\n",
       "      <td>RG9nIFRyZWF0cw</td>\n",
       "      <td>cGV0IHN1cHBsaWVz</td>\n",
       "    </tr>\n",
       "    <tr>\n",
       "      <th>13729934</th>\n",
       "      <td>296ef8b5-619c-47f1-8ea4-88870c21c6eb</td>\n",
       "      <td>$49.00</td>\n",
       "      <td>$49.00</td>\n",
       "      <td>U3Ryb2xsZXJzL0NhciBzZWF0cy8gQWNjZXNzb3JpZXM</td>\n",
       "      <td>Q2FyIHNlYXRz</td>\n",
       "      <td>QmFieWNhcmU</td>\n",
       "    </tr>\n",
       "    <tr>\n",
       "      <th>13729965</th>\n",
       "      <td>d3a85b19-cf28-413a-b8ee-518622025bdd</td>\n",
       "      <td>$18.95</td>\n",
       "      <td>$18.95</td>\n",
       "      <td>QmFieSBXaXBlcw</td>\n",
       "      <td>QmFieSBXaXBlcw</td>\n",
       "      <td>QmFieWNhcmU</td>\n",
       "    </tr>\n",
       "  </tbody>\n",
       "</table>\n",
       "<p>310000 rows × 6 columns</p>\n",
       "</div>"
      ],
      "text/plain": [
       "                                          uuid price_string  \\\n",
       "61        13724827-979f-4019-9ff1-b44e57af5802          NaN   \n",
       "115       8e4fdac3-afc9-4242-9136-90d13e116724        $6.75   \n",
       "116       53beedf4-ed7c-4407-9081-7ae41f3a7282       $15.00   \n",
       "176       d3a85b19-cf28-413a-b8ee-518622025bdd       $18.95   \n",
       "182       623f06c9-5147-471a-a58f-162caca48a32      $459.99   \n",
       "...                                        ...          ...   \n",
       "13729785  05ddee10-cde7-41f7-99d9-d0bc2f43a9cf       $25.00   \n",
       "13729878  548a7381-b382-41db-bf06-4dae79857d87          NaN   \n",
       "13729916  1235c157-0b13-494d-99fb-02b2b386bc78       $10.00   \n",
       "13729934  296ef8b5-619c-47f1-8ea4-88870c21c6eb       $49.00   \n",
       "13729965  d3a85b19-cf28-413a-b8ee-518622025bdd       $18.95   \n",
       "\n",
       "                  price_string_unf  \\\n",
       "61        Current price: \\n$359.00   \n",
       "115                          $6.75   \n",
       "116                         $15.00   \n",
       "176                         $18.95   \n",
       "182                        $459.99   \n",
       "...                            ...   \n",
       "13729785                    $25.00   \n",
       "13729878                   $85 USD   \n",
       "13729916                    $10.00   \n",
       "13729934                    $49.00   \n",
       "13729965                    $18.95   \n",
       "\n",
       "                                         product_type  \\\n",
       "61        U3Ryb2xsZXJzL0NhciBzZWF0cy8gQWNjZXNzb3JpZXM   \n",
       "115                                  Q29mZmVlIEJlYW5z   \n",
       "116                                      RG91Z2ggSmFy   \n",
       "176                                    QmFieSBXaXBlcw   \n",
       "182       U3Ryb2xsZXJzL0NhciBzZWF0cy8gQWNjZXNzb3JpZXM   \n",
       "...                                               ...   \n",
       "13729785                      RG91Z2ggS2l0L1Byb2plY3Q   \n",
       "13729878                          TWF0ZXJuaXR5IFdlYXI   \n",
       "13729916                               UGV0IFRyZWF0cw   \n",
       "13729934  U3Ryb2xsZXJzL0NhciBzZWF0cy8gQWNjZXNzb3JpZXM   \n",
       "13729965                               QmFieSBXaXBlcw   \n",
       "\n",
       "                                 level_1                          category  \n",
       "61                          Q2FyIHNlYXRz                       QmFieWNhcmU  \n",
       "115                       RGFyayBSb2FzdA                      Z3JvY2VyaWVz  \n",
       "116           UGxheWRvdWdoIC8gUGxheWRvaA               VG95cyBhbmQgR2FtZXM  \n",
       "176                       QmFieSBXaXBlcw                       QmFieWNhcmU  \n",
       "182                         Q2FyIHNlYXRz                       QmFieWNhcmU  \n",
       "...                                  ...                               ...  \n",
       "13729785  UGxheSBEb3VnaCBLaXQvUHJvamVjdA               VG95cyBhbmQgR2FtZXM  \n",
       "13729878            TWF0ZXJuaXR5IFNraXJ0  Q2xvdGhpbmcgYW5kIEFjY2Vzc29yaWVz  \n",
       "13729916                  RG9nIFRyZWF0cw                  cGV0IHN1cHBsaWVz  \n",
       "13729934                    Q2FyIHNlYXRz                       QmFieWNhcmU  \n",
       "13729965                  QmFieSBXaXBlcw                       QmFieWNhcmU  \n",
       "\n",
       "[310000 rows x 6 columns]"
      ]
     },
     "execution_count": 326,
     "metadata": {},
     "output_type": "execute_result"
    }
   ],
   "source": [
    "unfiltered"
   ]
  },
  {
   "cell_type": "markdown",
   "metadata": {},
   "source": [
    "## Removed alphabets from price_string_unf"
   ]
  },
  {
   "cell_type": "code",
   "execution_count": 327,
   "metadata": {},
   "outputs": [
    {
     "name": "stderr",
     "output_type": "stream",
     "text": [
      "C:\\Users\\dhana\\AppData\\Local\\Temp\\ipykernel_21188\\1665982157.py:1: FutureWarning: The default value of regex will change from True to False in a future version.\n",
      "  unfiltered['price_string_unf'] = unfiltered['price_string_unf'].str.replace(\"[a-zA-Z]\", '')\n",
      "C:\\Users\\dhana\\AppData\\Local\\Temp\\ipykernel_21188\\1665982157.py:1: SettingWithCopyWarning: \n",
      "A value is trying to be set on a copy of a slice from a DataFrame.\n",
      "Try using .loc[row_indexer,col_indexer] = value instead\n",
      "\n",
      "See the caveats in the documentation: https://pandas.pydata.org/pandas-docs/stable/user_guide/indexing.html#returning-a-view-versus-a-copy\n",
      "  unfiltered['price_string_unf'] = unfiltered['price_string_unf'].str.replace(\"[a-zA-Z]\", '')\n"
     ]
    }
   ],
   "source": [
    "unfiltered['price_string_unf'] = unfiltered['price_string_unf'].str.replace(\"[a-zA-Z]\", '')\n"
   ]
  },
  {
   "cell_type": "markdown",
   "metadata": {},
   "source": [
    "## Removed : from price_string_unf"
   ]
  },
  {
   "cell_type": "code",
   "execution_count": 328,
   "metadata": {},
   "outputs": [
    {
     "name": "stderr",
     "output_type": "stream",
     "text": [
      "C:\\Users\\dhana\\AppData\\Local\\Temp\\ipykernel_21188\\3722215497.py:1: SettingWithCopyWarning: \n",
      "A value is trying to be set on a copy of a slice from a DataFrame.\n",
      "Try using .loc[row_indexer,col_indexer] = value instead\n",
      "\n",
      "See the caveats in the documentation: https://pandas.pydata.org/pandas-docs/stable/user_guide/indexing.html#returning-a-view-versus-a-copy\n",
      "  unfiltered['price_string_unf'] = unfiltered['price_string_unf'].str.replace(\":\", '')\n"
     ]
    }
   ],
   "source": [
    "unfiltered['price_string_unf'] = unfiltered['price_string_unf'].str.replace(\":\", '')"
   ]
  },
  {
   "cell_type": "markdown",
   "metadata": {},
   "source": [
    "## removed \\n from price_string_unf"
   ]
  },
  {
   "cell_type": "code",
   "execution_count": 329,
   "metadata": {},
   "outputs": [
    {
     "name": "stderr",
     "output_type": "stream",
     "text": [
      "C:\\Users\\dhana\\AppData\\Local\\Temp\\ipykernel_21188\\3863266916.py:1: SettingWithCopyWarning: \n",
      "A value is trying to be set on a copy of a slice from a DataFrame.\n",
      "Try using .loc[row_indexer,col_indexer] = value instead\n",
      "\n",
      "See the caveats in the documentation: https://pandas.pydata.org/pandas-docs/stable/user_guide/indexing.html#returning-a-view-versus-a-copy\n",
      "  unfiltered['price_string_unf'] = unfiltered['price_string_unf'].str.replace('\\n','')\n"
     ]
    }
   ],
   "source": [
    "unfiltered['price_string_unf'] = unfiltered['price_string_unf'].str.replace('\\n','')"
   ]
  },
  {
   "cell_type": "markdown",
   "metadata": {},
   "source": [
    "## Removed spaces from price_string_unf"
   ]
  },
  {
   "cell_type": "code",
   "execution_count": 330,
   "metadata": {},
   "outputs": [
    {
     "name": "stderr",
     "output_type": "stream",
     "text": [
      "C:\\Users\\dhana\\AppData\\Local\\Temp\\ipykernel_21188\\757474551.py:1: SettingWithCopyWarning: \n",
      "A value is trying to be set on a copy of a slice from a DataFrame.\n",
      "Try using .loc[row_indexer,col_indexer] = value instead\n",
      "\n",
      "See the caveats in the documentation: https://pandas.pydata.org/pandas-docs/stable/user_guide/indexing.html#returning-a-view-versus-a-copy\n",
      "  unfiltered['price_string_unf'] = unfiltered['price_string_unf'].str.replace(' ','')\n"
     ]
    }
   ],
   "source": [
    "unfiltered['price_string_unf'] = unfiltered['price_string_unf'].str.replace(' ','')"
   ]
  },
  {
   "cell_type": "code",
   "execution_count": 331,
   "metadata": {},
   "outputs": [
    {
     "data": {
      "text/plain": [
       "61          $359.00\n",
       "115           $6.75\n",
       "116          $15.00\n",
       "176          $18.95\n",
       "182         $459.99\n",
       "             ...   \n",
       "13729785     $25.00\n",
       "13729878        $85\n",
       "13729916     $10.00\n",
       "13729934     $49.00\n",
       "13729965     $18.95\n",
       "Name: price_string_unf, Length: 310000, dtype: object"
      ]
     },
     "execution_count": 331,
     "metadata": {},
     "output_type": "execute_result"
    }
   ],
   "source": [
    "unfiltered['price_string_unf']"
   ]
  },
  {
   "cell_type": "markdown",
   "metadata": {},
   "source": [
    "## Split to remove garbage value"
   ]
  },
  {
   "cell_type": "code",
   "execution_count": 332,
   "metadata": {},
   "outputs": [],
   "source": [
    "list=unfiltered['price_string_unf'].str.split('$',2)"
   ]
  },
  {
   "cell_type": "code",
   "execution_count": 333,
   "metadata": {},
   "outputs": [],
   "source": [
    "x=list.apply(lambda col: col[1])"
   ]
  },
  {
   "cell_type": "code",
   "execution_count": 334,
   "metadata": {},
   "outputs": [
    {
     "name": "stderr",
     "output_type": "stream",
     "text": [
      "C:\\Users\\dhana\\AppData\\Local\\Temp\\ipykernel_21188\\1800197976.py:1: SettingWithCopyWarning: \n",
      "A value is trying to be set on a copy of a slice from a DataFrame.\n",
      "Try using .loc[row_indexer,col_indexer] = value instead\n",
      "\n",
      "See the caveats in the documentation: https://pandas.pydata.org/pandas-docs/stable/user_guide/indexing.html#returning-a-view-versus-a-copy\n",
      "  unfiltered['price_string_unf']=x\n"
     ]
    }
   ],
   "source": [
    "unfiltered['price_string_unf']=x"
   ]
  },
  {
   "cell_type": "code",
   "execution_count": 335,
   "metadata": {},
   "outputs": [
    {
     "data": {
      "text/plain": [
       "61          359.00\n",
       "115           6.75\n",
       "116          15.00\n",
       "176          18.95\n",
       "182         459.99\n",
       "             ...  \n",
       "13729785     25.00\n",
       "13729878        85\n",
       "13729916     10.00\n",
       "13729934     49.00\n",
       "13729965     18.95\n",
       "Name: price_string_unf, Length: 310000, dtype: object"
      ]
     },
     "execution_count": 335,
     "metadata": {},
     "output_type": "execute_result"
    }
   ],
   "source": [
    "unfiltered['price_string_unf']"
   ]
  },
  {
   "cell_type": "code",
   "execution_count": 336,
   "metadata": {},
   "outputs": [
    {
     "name": "stderr",
     "output_type": "stream",
     "text": [
      "C:\\Users\\dhana\\AppData\\Local\\Temp\\ipykernel_21188\\3925313166.py:1: SettingWithCopyWarning: \n",
      "A value is trying to be set on a copy of a slice from a DataFrame.\n",
      "Try using .loc[row_indexer,col_indexer] = value instead\n",
      "\n",
      "See the caveats in the documentation: https://pandas.pydata.org/pandas-docs/stable/user_guide/indexing.html#returning-a-view-versus-a-copy\n",
      "  unfiltered['price_string_unf']='$'+ unfiltered['price_string_unf'].astype(str)\n"
     ]
    }
   ],
   "source": [
    "unfiltered['price_string_unf']='$'+ unfiltered['price_string_unf'].astype(str)"
   ]
  },
  {
   "cell_type": "code",
   "execution_count": 337,
   "metadata": {},
   "outputs": [
    {
     "data": {
      "text/plain": [
       "61          $359.00\n",
       "115           $6.75\n",
       "116          $15.00\n",
       "176          $18.95\n",
       "182         $459.99\n",
       "             ...   \n",
       "13729785     $25.00\n",
       "13729878        $85\n",
       "13729916     $10.00\n",
       "13729934     $49.00\n",
       "13729965     $18.95\n",
       "Name: price_string_unf, Length: 310000, dtype: object"
      ]
     },
     "execution_count": 337,
     "metadata": {},
     "output_type": "execute_result"
    }
   ],
   "source": [
    "unfiltered['price_string_unf']"
   ]
  },
  {
   "cell_type": "code",
   "execution_count": 338,
   "metadata": {},
   "outputs": [
    {
     "data": {
      "text/html": [
       "<div>\n",
       "<style scoped>\n",
       "    .dataframe tbody tr th:only-of-type {\n",
       "        vertical-align: middle;\n",
       "    }\n",
       "\n",
       "    .dataframe tbody tr th {\n",
       "        vertical-align: top;\n",
       "    }\n",
       "\n",
       "    .dataframe thead th {\n",
       "        text-align: right;\n",
       "    }\n",
       "</style>\n",
       "<table border=\"1\" class=\"dataframe\">\n",
       "  <thead>\n",
       "    <tr style=\"text-align: right;\">\n",
       "      <th></th>\n",
       "      <th>uuid</th>\n",
       "      <th>price_string</th>\n",
       "      <th>price_string_unf</th>\n",
       "      <th>product_type</th>\n",
       "      <th>level_1</th>\n",
       "      <th>category</th>\n",
       "    </tr>\n",
       "  </thead>\n",
       "  <tbody>\n",
       "    <tr>\n",
       "      <th>61</th>\n",
       "      <td>13724827-979f-4019-9ff1-b44e57af5802</td>\n",
       "      <td>NaN</td>\n",
       "      <td>$359.00</td>\n",
       "      <td>U3Ryb2xsZXJzL0NhciBzZWF0cy8gQWNjZXNzb3JpZXM</td>\n",
       "      <td>Q2FyIHNlYXRz</td>\n",
       "      <td>QmFieWNhcmU</td>\n",
       "    </tr>\n",
       "    <tr>\n",
       "      <th>115</th>\n",
       "      <td>8e4fdac3-afc9-4242-9136-90d13e116724</td>\n",
       "      <td>$6.75</td>\n",
       "      <td>$6.75</td>\n",
       "      <td>Q29mZmVlIEJlYW5z</td>\n",
       "      <td>RGFyayBSb2FzdA</td>\n",
       "      <td>Z3JvY2VyaWVz</td>\n",
       "    </tr>\n",
       "    <tr>\n",
       "      <th>116</th>\n",
       "      <td>53beedf4-ed7c-4407-9081-7ae41f3a7282</td>\n",
       "      <td>$15.00</td>\n",
       "      <td>$15.00</td>\n",
       "      <td>RG91Z2ggSmFy</td>\n",
       "      <td>UGxheWRvdWdoIC8gUGxheWRvaA</td>\n",
       "      <td>VG95cyBhbmQgR2FtZXM</td>\n",
       "    </tr>\n",
       "    <tr>\n",
       "      <th>176</th>\n",
       "      <td>d3a85b19-cf28-413a-b8ee-518622025bdd</td>\n",
       "      <td>$18.95</td>\n",
       "      <td>$18.95</td>\n",
       "      <td>QmFieSBXaXBlcw</td>\n",
       "      <td>QmFieSBXaXBlcw</td>\n",
       "      <td>QmFieWNhcmU</td>\n",
       "    </tr>\n",
       "    <tr>\n",
       "      <th>182</th>\n",
       "      <td>623f06c9-5147-471a-a58f-162caca48a32</td>\n",
       "      <td>$459.99</td>\n",
       "      <td>$459.99</td>\n",
       "      <td>U3Ryb2xsZXJzL0NhciBzZWF0cy8gQWNjZXNzb3JpZXM</td>\n",
       "      <td>Q2FyIHNlYXRz</td>\n",
       "      <td>QmFieWNhcmU</td>\n",
       "    </tr>\n",
       "    <tr>\n",
       "      <th>...</th>\n",
       "      <td>...</td>\n",
       "      <td>...</td>\n",
       "      <td>...</td>\n",
       "      <td>...</td>\n",
       "      <td>...</td>\n",
       "      <td>...</td>\n",
       "    </tr>\n",
       "    <tr>\n",
       "      <th>13729785</th>\n",
       "      <td>05ddee10-cde7-41f7-99d9-d0bc2f43a9cf</td>\n",
       "      <td>$25.00</td>\n",
       "      <td>$25.00</td>\n",
       "      <td>RG91Z2ggS2l0L1Byb2plY3Q</td>\n",
       "      <td>UGxheSBEb3VnaCBLaXQvUHJvamVjdA</td>\n",
       "      <td>VG95cyBhbmQgR2FtZXM</td>\n",
       "    </tr>\n",
       "    <tr>\n",
       "      <th>13729878</th>\n",
       "      <td>548a7381-b382-41db-bf06-4dae79857d87</td>\n",
       "      <td>NaN</td>\n",
       "      <td>$85</td>\n",
       "      <td>TWF0ZXJuaXR5IFdlYXI</td>\n",
       "      <td>TWF0ZXJuaXR5IFNraXJ0</td>\n",
       "      <td>Q2xvdGhpbmcgYW5kIEFjY2Vzc29yaWVz</td>\n",
       "    </tr>\n",
       "    <tr>\n",
       "      <th>13729916</th>\n",
       "      <td>1235c157-0b13-494d-99fb-02b2b386bc78</td>\n",
       "      <td>$10.00</td>\n",
       "      <td>$10.00</td>\n",
       "      <td>UGV0IFRyZWF0cw</td>\n",
       "      <td>RG9nIFRyZWF0cw</td>\n",
       "      <td>cGV0IHN1cHBsaWVz</td>\n",
       "    </tr>\n",
       "    <tr>\n",
       "      <th>13729934</th>\n",
       "      <td>296ef8b5-619c-47f1-8ea4-88870c21c6eb</td>\n",
       "      <td>$49.00</td>\n",
       "      <td>$49.00</td>\n",
       "      <td>U3Ryb2xsZXJzL0NhciBzZWF0cy8gQWNjZXNzb3JpZXM</td>\n",
       "      <td>Q2FyIHNlYXRz</td>\n",
       "      <td>QmFieWNhcmU</td>\n",
       "    </tr>\n",
       "    <tr>\n",
       "      <th>13729965</th>\n",
       "      <td>d3a85b19-cf28-413a-b8ee-518622025bdd</td>\n",
       "      <td>$18.95</td>\n",
       "      <td>$18.95</td>\n",
       "      <td>QmFieSBXaXBlcw</td>\n",
       "      <td>QmFieSBXaXBlcw</td>\n",
       "      <td>QmFieWNhcmU</td>\n",
       "    </tr>\n",
       "  </tbody>\n",
       "</table>\n",
       "<p>310000 rows × 6 columns</p>\n",
       "</div>"
      ],
      "text/plain": [
       "                                          uuid price_string price_string_unf  \\\n",
       "61        13724827-979f-4019-9ff1-b44e57af5802          NaN          $359.00   \n",
       "115       8e4fdac3-afc9-4242-9136-90d13e116724        $6.75            $6.75   \n",
       "116       53beedf4-ed7c-4407-9081-7ae41f3a7282       $15.00           $15.00   \n",
       "176       d3a85b19-cf28-413a-b8ee-518622025bdd       $18.95           $18.95   \n",
       "182       623f06c9-5147-471a-a58f-162caca48a32      $459.99          $459.99   \n",
       "...                                        ...          ...              ...   \n",
       "13729785  05ddee10-cde7-41f7-99d9-d0bc2f43a9cf       $25.00           $25.00   \n",
       "13729878  548a7381-b382-41db-bf06-4dae79857d87          NaN              $85   \n",
       "13729916  1235c157-0b13-494d-99fb-02b2b386bc78       $10.00           $10.00   \n",
       "13729934  296ef8b5-619c-47f1-8ea4-88870c21c6eb       $49.00           $49.00   \n",
       "13729965  d3a85b19-cf28-413a-b8ee-518622025bdd       $18.95           $18.95   \n",
       "\n",
       "                                         product_type  \\\n",
       "61        U3Ryb2xsZXJzL0NhciBzZWF0cy8gQWNjZXNzb3JpZXM   \n",
       "115                                  Q29mZmVlIEJlYW5z   \n",
       "116                                      RG91Z2ggSmFy   \n",
       "176                                    QmFieSBXaXBlcw   \n",
       "182       U3Ryb2xsZXJzL0NhciBzZWF0cy8gQWNjZXNzb3JpZXM   \n",
       "...                                               ...   \n",
       "13729785                      RG91Z2ggS2l0L1Byb2plY3Q   \n",
       "13729878                          TWF0ZXJuaXR5IFdlYXI   \n",
       "13729916                               UGV0IFRyZWF0cw   \n",
       "13729934  U3Ryb2xsZXJzL0NhciBzZWF0cy8gQWNjZXNzb3JpZXM   \n",
       "13729965                               QmFieSBXaXBlcw   \n",
       "\n",
       "                                 level_1                          category  \n",
       "61                          Q2FyIHNlYXRz                       QmFieWNhcmU  \n",
       "115                       RGFyayBSb2FzdA                      Z3JvY2VyaWVz  \n",
       "116           UGxheWRvdWdoIC8gUGxheWRvaA               VG95cyBhbmQgR2FtZXM  \n",
       "176                       QmFieSBXaXBlcw                       QmFieWNhcmU  \n",
       "182                         Q2FyIHNlYXRz                       QmFieWNhcmU  \n",
       "...                                  ...                               ...  \n",
       "13729785  UGxheSBEb3VnaCBLaXQvUHJvamVjdA               VG95cyBhbmQgR2FtZXM  \n",
       "13729878            TWF0ZXJuaXR5IFNraXJ0  Q2xvdGhpbmcgYW5kIEFjY2Vzc29yaWVz  \n",
       "13729916                  RG9nIFRyZWF0cw                  cGV0IHN1cHBsaWVz  \n",
       "13729934                    Q2FyIHNlYXRz                       QmFieWNhcmU  \n",
       "13729965                  QmFieSBXaXBlcw                       QmFieWNhcmU  \n",
       "\n",
       "[310000 rows x 6 columns]"
      ]
     },
     "execution_count": 338,
     "metadata": {},
     "output_type": "execute_result"
    }
   ],
   "source": [
    "unfiltered"
   ]
  },
  {
   "cell_type": "code",
   "execution_count": 339,
   "metadata": {},
   "outputs": [
    {
     "name": "stderr",
     "output_type": "stream",
     "text": [
      "C:\\Users\\dhana\\AppData\\Local\\Temp\\ipykernel_21188\\3546998339.py:1: FutureWarning: The default value of regex will change from True to False in a future version. In addition, single character regular expressions will *not* be treated as literal strings when regex=True.\n",
      "  value=unfiltered['price_string_unf'].str.replace('$', '').astype(float)\n"
     ]
    }
   ],
   "source": [
    "value=unfiltered['price_string_unf'].str.replace('$', '').astype(float)"
   ]
  },
  {
   "cell_type": "code",
   "execution_count": 340,
   "metadata": {},
   "outputs": [
    {
     "data": {
      "text/plain": [
       "61          359.00\n",
       "115           6.75\n",
       "116          15.00\n",
       "176          18.95\n",
       "182         459.99\n",
       "             ...  \n",
       "13729785     25.00\n",
       "13729878     85.00\n",
       "13729916     10.00\n",
       "13729934     49.00\n",
       "13729965     18.95\n",
       "Name: price_string_unf, Length: 310000, dtype: float64"
      ]
     },
     "execution_count": 340,
     "metadata": {},
     "output_type": "execute_result"
    }
   ],
   "source": [
    "value"
   ]
  },
  {
   "cell_type": "code",
   "execution_count": 341,
   "metadata": {},
   "outputs": [],
   "source": [
    "## Therefore able to remove garbage values from price_string_unf\n",
    "unfiltered.insert(3, \"currency\", \"$\")\n",
    "unfiltered.insert(4, \"value\", value)"
   ]
  },
  {
   "cell_type": "code",
   "execution_count": 342,
   "metadata": {},
   "outputs": [
    {
     "data": {
      "text/html": [
       "<div>\n",
       "<style scoped>\n",
       "    .dataframe tbody tr th:only-of-type {\n",
       "        vertical-align: middle;\n",
       "    }\n",
       "\n",
       "    .dataframe tbody tr th {\n",
       "        vertical-align: top;\n",
       "    }\n",
       "\n",
       "    .dataframe thead th {\n",
       "        text-align: right;\n",
       "    }\n",
       "</style>\n",
       "<table border=\"1\" class=\"dataframe\">\n",
       "  <thead>\n",
       "    <tr style=\"text-align: right;\">\n",
       "      <th></th>\n",
       "      <th>uuid</th>\n",
       "      <th>price_string</th>\n",
       "      <th>price_string_unf</th>\n",
       "      <th>currency</th>\n",
       "      <th>value</th>\n",
       "      <th>product_type</th>\n",
       "      <th>level_1</th>\n",
       "      <th>category</th>\n",
       "    </tr>\n",
       "  </thead>\n",
       "  <tbody>\n",
       "    <tr>\n",
       "      <th>61</th>\n",
       "      <td>13724827-979f-4019-9ff1-b44e57af5802</td>\n",
       "      <td>NaN</td>\n",
       "      <td>$359.00</td>\n",
       "      <td>$</td>\n",
       "      <td>359.00</td>\n",
       "      <td>U3Ryb2xsZXJzL0NhciBzZWF0cy8gQWNjZXNzb3JpZXM</td>\n",
       "      <td>Q2FyIHNlYXRz</td>\n",
       "      <td>QmFieWNhcmU</td>\n",
       "    </tr>\n",
       "    <tr>\n",
       "      <th>115</th>\n",
       "      <td>8e4fdac3-afc9-4242-9136-90d13e116724</td>\n",
       "      <td>$6.75</td>\n",
       "      <td>$6.75</td>\n",
       "      <td>$</td>\n",
       "      <td>6.75</td>\n",
       "      <td>Q29mZmVlIEJlYW5z</td>\n",
       "      <td>RGFyayBSb2FzdA</td>\n",
       "      <td>Z3JvY2VyaWVz</td>\n",
       "    </tr>\n",
       "    <tr>\n",
       "      <th>116</th>\n",
       "      <td>53beedf4-ed7c-4407-9081-7ae41f3a7282</td>\n",
       "      <td>$15.00</td>\n",
       "      <td>$15.00</td>\n",
       "      <td>$</td>\n",
       "      <td>15.00</td>\n",
       "      <td>RG91Z2ggSmFy</td>\n",
       "      <td>UGxheWRvdWdoIC8gUGxheWRvaA</td>\n",
       "      <td>VG95cyBhbmQgR2FtZXM</td>\n",
       "    </tr>\n",
       "    <tr>\n",
       "      <th>176</th>\n",
       "      <td>d3a85b19-cf28-413a-b8ee-518622025bdd</td>\n",
       "      <td>$18.95</td>\n",
       "      <td>$18.95</td>\n",
       "      <td>$</td>\n",
       "      <td>18.95</td>\n",
       "      <td>QmFieSBXaXBlcw</td>\n",
       "      <td>QmFieSBXaXBlcw</td>\n",
       "      <td>QmFieWNhcmU</td>\n",
       "    </tr>\n",
       "    <tr>\n",
       "      <th>182</th>\n",
       "      <td>623f06c9-5147-471a-a58f-162caca48a32</td>\n",
       "      <td>$459.99</td>\n",
       "      <td>$459.99</td>\n",
       "      <td>$</td>\n",
       "      <td>459.99</td>\n",
       "      <td>U3Ryb2xsZXJzL0NhciBzZWF0cy8gQWNjZXNzb3JpZXM</td>\n",
       "      <td>Q2FyIHNlYXRz</td>\n",
       "      <td>QmFieWNhcmU</td>\n",
       "    </tr>\n",
       "    <tr>\n",
       "      <th>...</th>\n",
       "      <td>...</td>\n",
       "      <td>...</td>\n",
       "      <td>...</td>\n",
       "      <td>...</td>\n",
       "      <td>...</td>\n",
       "      <td>...</td>\n",
       "      <td>...</td>\n",
       "      <td>...</td>\n",
       "    </tr>\n",
       "    <tr>\n",
       "      <th>13729785</th>\n",
       "      <td>05ddee10-cde7-41f7-99d9-d0bc2f43a9cf</td>\n",
       "      <td>$25.00</td>\n",
       "      <td>$25.00</td>\n",
       "      <td>$</td>\n",
       "      <td>25.00</td>\n",
       "      <td>RG91Z2ggS2l0L1Byb2plY3Q</td>\n",
       "      <td>UGxheSBEb3VnaCBLaXQvUHJvamVjdA</td>\n",
       "      <td>VG95cyBhbmQgR2FtZXM</td>\n",
       "    </tr>\n",
       "    <tr>\n",
       "      <th>13729878</th>\n",
       "      <td>548a7381-b382-41db-bf06-4dae79857d87</td>\n",
       "      <td>NaN</td>\n",
       "      <td>$85</td>\n",
       "      <td>$</td>\n",
       "      <td>85.00</td>\n",
       "      <td>TWF0ZXJuaXR5IFdlYXI</td>\n",
       "      <td>TWF0ZXJuaXR5IFNraXJ0</td>\n",
       "      <td>Q2xvdGhpbmcgYW5kIEFjY2Vzc29yaWVz</td>\n",
       "    </tr>\n",
       "    <tr>\n",
       "      <th>13729916</th>\n",
       "      <td>1235c157-0b13-494d-99fb-02b2b386bc78</td>\n",
       "      <td>$10.00</td>\n",
       "      <td>$10.00</td>\n",
       "      <td>$</td>\n",
       "      <td>10.00</td>\n",
       "      <td>UGV0IFRyZWF0cw</td>\n",
       "      <td>RG9nIFRyZWF0cw</td>\n",
       "      <td>cGV0IHN1cHBsaWVz</td>\n",
       "    </tr>\n",
       "    <tr>\n",
       "      <th>13729934</th>\n",
       "      <td>296ef8b5-619c-47f1-8ea4-88870c21c6eb</td>\n",
       "      <td>$49.00</td>\n",
       "      <td>$49.00</td>\n",
       "      <td>$</td>\n",
       "      <td>49.00</td>\n",
       "      <td>U3Ryb2xsZXJzL0NhciBzZWF0cy8gQWNjZXNzb3JpZXM</td>\n",
       "      <td>Q2FyIHNlYXRz</td>\n",
       "      <td>QmFieWNhcmU</td>\n",
       "    </tr>\n",
       "    <tr>\n",
       "      <th>13729965</th>\n",
       "      <td>d3a85b19-cf28-413a-b8ee-518622025bdd</td>\n",
       "      <td>$18.95</td>\n",
       "      <td>$18.95</td>\n",
       "      <td>$</td>\n",
       "      <td>18.95</td>\n",
       "      <td>QmFieSBXaXBlcw</td>\n",
       "      <td>QmFieSBXaXBlcw</td>\n",
       "      <td>QmFieWNhcmU</td>\n",
       "    </tr>\n",
       "  </tbody>\n",
       "</table>\n",
       "<p>310000 rows × 8 columns</p>\n",
       "</div>"
      ],
      "text/plain": [
       "                                          uuid price_string price_string_unf  \\\n",
       "61        13724827-979f-4019-9ff1-b44e57af5802          NaN          $359.00   \n",
       "115       8e4fdac3-afc9-4242-9136-90d13e116724        $6.75            $6.75   \n",
       "116       53beedf4-ed7c-4407-9081-7ae41f3a7282       $15.00           $15.00   \n",
       "176       d3a85b19-cf28-413a-b8ee-518622025bdd       $18.95           $18.95   \n",
       "182       623f06c9-5147-471a-a58f-162caca48a32      $459.99          $459.99   \n",
       "...                                        ...          ...              ...   \n",
       "13729785  05ddee10-cde7-41f7-99d9-d0bc2f43a9cf       $25.00           $25.00   \n",
       "13729878  548a7381-b382-41db-bf06-4dae79857d87          NaN              $85   \n",
       "13729916  1235c157-0b13-494d-99fb-02b2b386bc78       $10.00           $10.00   \n",
       "13729934  296ef8b5-619c-47f1-8ea4-88870c21c6eb       $49.00           $49.00   \n",
       "13729965  d3a85b19-cf28-413a-b8ee-518622025bdd       $18.95           $18.95   \n",
       "\n",
       "         currency   value                                 product_type  \\\n",
       "61              $  359.00  U3Ryb2xsZXJzL0NhciBzZWF0cy8gQWNjZXNzb3JpZXM   \n",
       "115             $    6.75                             Q29mZmVlIEJlYW5z   \n",
       "116             $   15.00                                 RG91Z2ggSmFy   \n",
       "176             $   18.95                               QmFieSBXaXBlcw   \n",
       "182             $  459.99  U3Ryb2xsZXJzL0NhciBzZWF0cy8gQWNjZXNzb3JpZXM   \n",
       "...           ...     ...                                          ...   \n",
       "13729785        $   25.00                      RG91Z2ggS2l0L1Byb2plY3Q   \n",
       "13729878        $   85.00                          TWF0ZXJuaXR5IFdlYXI   \n",
       "13729916        $   10.00                               UGV0IFRyZWF0cw   \n",
       "13729934        $   49.00  U3Ryb2xsZXJzL0NhciBzZWF0cy8gQWNjZXNzb3JpZXM   \n",
       "13729965        $   18.95                               QmFieSBXaXBlcw   \n",
       "\n",
       "                                 level_1                          category  \n",
       "61                          Q2FyIHNlYXRz                       QmFieWNhcmU  \n",
       "115                       RGFyayBSb2FzdA                      Z3JvY2VyaWVz  \n",
       "116           UGxheWRvdWdoIC8gUGxheWRvaA               VG95cyBhbmQgR2FtZXM  \n",
       "176                       QmFieSBXaXBlcw                       QmFieWNhcmU  \n",
       "182                         Q2FyIHNlYXRz                       QmFieWNhcmU  \n",
       "...                                  ...                               ...  \n",
       "13729785  UGxheSBEb3VnaCBLaXQvUHJvamVjdA               VG95cyBhbmQgR2FtZXM  \n",
       "13729878            TWF0ZXJuaXR5IFNraXJ0  Q2xvdGhpbmcgYW5kIEFjY2Vzc29yaWVz  \n",
       "13729916                  RG9nIFRyZWF0cw                  cGV0IHN1cHBsaWVz  \n",
       "13729934                    Q2FyIHNlYXRz                       QmFieWNhcmU  \n",
       "13729965                  QmFieSBXaXBlcw                       QmFieWNhcmU  \n",
       "\n",
       "[310000 rows x 8 columns]"
      ]
     },
     "execution_count": 342,
     "metadata": {},
     "output_type": "execute_result"
    }
   ],
   "source": [
    "unfiltered"
   ]
  },
  {
   "cell_type": "markdown",
   "metadata": {},
   "source": [
    "## Therefore able to remove garbage values from price_string_unf"
   ]
  },
  {
   "cell_type": "markdown",
   "metadata": {},
   "source": [
    "## Creating new field value extracted from price_string and saved as float"
   ]
  },
  {
   "cell_type": "code",
   "execution_count": 112,
   "metadata": {},
   "outputs": [
    {
     "name": "stderr",
     "output_type": "stream",
     "text": [
      "C:\\Users\\dhana\\AppData\\Local\\Temp\\ipykernel_21188\\1980198152.py:1: FutureWarning: The default value of regex will change from True to False in a future version. In addition, single character regular expressions will *not* be treated as literal strings when regex=True.\n",
      "  value=Product_with_prices['price_string'].str.replace('$', '').astype(float)\n"
     ]
    }
   ],
   "source": [
    "value=Product_with_prices['price_string'].str.replace('$', '').astype(float)"
   ]
  },
  {
   "cell_type": "code",
   "execution_count": 113,
   "metadata": {},
   "outputs": [
    {
     "data": {
      "text/plain": [
       "2            19.95\n",
       "3            92.00\n",
       "4            11.50\n",
       "6            24.99\n",
       "7           148.00\n",
       "             ...  \n",
       "13729987     32.99\n",
       "13729989     34.00\n",
       "13729994     86.00\n",
       "13729996     69.99\n",
       "13729999     55.00\n",
       "Name: price_string, Length: 5510000, dtype: float64"
      ]
     },
     "execution_count": 113,
     "metadata": {},
     "output_type": "execute_result"
    }
   ],
   "source": [
    "value"
   ]
  },
  {
   "cell_type": "markdown",
   "metadata": {},
   "source": [
    "## Inserting a currency column and value column"
   ]
  },
  {
   "cell_type": "code",
   "execution_count": 114,
   "metadata": {},
   "outputs": [],
   "source": [
    "Product_with_prices.insert(2, \"currency\", \"$\")"
   ]
  },
  {
   "cell_type": "code",
   "execution_count": 115,
   "metadata": {},
   "outputs": [],
   "source": [
    "Product_with_prices.insert(3, \"value\", value)"
   ]
  },
  {
   "cell_type": "code",
   "execution_count": 116,
   "metadata": {},
   "outputs": [
    {
     "data": {
      "text/html": [
       "<div>\n",
       "<style scoped>\n",
       "    .dataframe tbody tr th:only-of-type {\n",
       "        vertical-align: middle;\n",
       "    }\n",
       "\n",
       "    .dataframe tbody tr th {\n",
       "        vertical-align: top;\n",
       "    }\n",
       "\n",
       "    .dataframe thead th {\n",
       "        text-align: right;\n",
       "    }\n",
       "</style>\n",
       "<table border=\"1\" class=\"dataframe\">\n",
       "  <thead>\n",
       "    <tr style=\"text-align: right;\">\n",
       "      <th></th>\n",
       "      <th>uuid</th>\n",
       "      <th>price_string</th>\n",
       "      <th>currency</th>\n",
       "      <th>value</th>\n",
       "      <th>price_string_unf</th>\n",
       "      <th>product_type</th>\n",
       "      <th>level_1</th>\n",
       "      <th>category</th>\n",
       "    </tr>\n",
       "  </thead>\n",
       "  <tbody>\n",
       "    <tr>\n",
       "      <th>2</th>\n",
       "      <td>acbd66ff-79f8-467a-91f9-108a45af5626</td>\n",
       "      <td>$19.95</td>\n",
       "      <td>$</td>\n",
       "      <td>19.95</td>\n",
       "      <td>NaN</td>\n",
       "      <td>R3VtbWllcyB2aXRhbWlucyBhbmQgbWluZXJhbHMgZm9yIG...</td>\n",
       "      <td>SW1tdW5pdHkgZ3VtbWllcw</td>\n",
       "      <td>SGVhbHRo</td>\n",
       "    </tr>\n",
       "    <tr>\n",
       "      <th>3</th>\n",
       "      <td>963915d6-b2e3-4098-b242-9410593cf205</td>\n",
       "      <td>$92.00</td>\n",
       "      <td>$</td>\n",
       "      <td>92.00</td>\n",
       "      <td>NaN</td>\n",
       "      <td>U2VydW1z</td>\n",
       "      <td>RmFjZSBTZXJ1bQ</td>\n",
       "      <td>YmVhdXR5IGFuZCBwZXJzb25hbCBjYXJl</td>\n",
       "    </tr>\n",
       "    <tr>\n",
       "      <th>4</th>\n",
       "      <td>b5b68f3c-b1e0-40e5-8ee5-e2f7236c1daf</td>\n",
       "      <td>$11.50</td>\n",
       "      <td>$</td>\n",
       "      <td>11.50</td>\n",
       "      <td>NaN</td>\n",
       "      <td>RWF0aW5nIFV0ZW5zaWxzL0N1dGxlcnk</td>\n",
       "      <td>Q2hvcHN0aWNrcw</td>\n",
       "      <td>a2l0Y2hpbmcgYW5kIGRpbmluZw</td>\n",
       "    </tr>\n",
       "    <tr>\n",
       "      <th>6</th>\n",
       "      <td>9599f1a9-d406-43eb-89f5-9b1c0af1ac9a</td>\n",
       "      <td>$24.99</td>\n",
       "      <td>$</td>\n",
       "      <td>24.99</td>\n",
       "      <td>NaN</td>\n",
       "      <td>TW9wcyBhbmQgYnJvb21z</td>\n",
       "      <td>TW9w</td>\n",
       "      <td>SG91c2Vob2xkIGFuZCBDbGVhbmluZw</td>\n",
       "    </tr>\n",
       "    <tr>\n",
       "      <th>7</th>\n",
       "      <td>35799087-f6f4-4ca2-abfe-cbb5c27d2f1a</td>\n",
       "      <td>$148.00</td>\n",
       "      <td>$</td>\n",
       "      <td>148.00</td>\n",
       "      <td>NaN</td>\n",
       "      <td>V29tZW5zIFBhbnRz</td>\n",
       "      <td>V29tZW5zIFJlZ3VsYXIvQ2FzdWFsIFBhbnRz</td>\n",
       "      <td>Q2xvdGhpbmcgYW5kIEFjY2Vzc29yaWVz</td>\n",
       "    </tr>\n",
       "    <tr>\n",
       "      <th>...</th>\n",
       "      <td>...</td>\n",
       "      <td>...</td>\n",
       "      <td>...</td>\n",
       "      <td>...</td>\n",
       "      <td>...</td>\n",
       "      <td>...</td>\n",
       "      <td>...</td>\n",
       "      <td>...</td>\n",
       "    </tr>\n",
       "    <tr>\n",
       "      <th>13729987</th>\n",
       "      <td>e12c3fe8-2987-4e95-93b2-14e173d8028a</td>\n",
       "      <td>$32.99</td>\n",
       "      <td>$</td>\n",
       "      <td>32.99</td>\n",
       "      <td>NaN</td>\n",
       "      <td>UGxhbnQgYmFzZWQgUHJvdGVpbiBTdXBwbGVtZW50cw</td>\n",
       "      <td>UGxhbnQgYmFzZWQgUHJvdGVpbiBTdXBwbGVtZW50cw</td>\n",
       "      <td>SGVhbHRo</td>\n",
       "    </tr>\n",
       "    <tr>\n",
       "      <th>13729989</th>\n",
       "      <td>544416c3-4845-4427-b27b-d3ca9beca970</td>\n",
       "      <td>$34.00</td>\n",
       "      <td>$</td>\n",
       "      <td>34.00</td>\n",
       "      <td>NaN</td>\n",
       "      <td>U3Vuc2NyZWVu</td>\n",
       "      <td>VmVnYW4gU3Vuc2NyZWVu</td>\n",
       "      <td>YmVhdXR5IGFuZCBwZXJzb25hbCBjYXJl</td>\n",
       "    </tr>\n",
       "    <tr>\n",
       "      <th>13729994</th>\n",
       "      <td>f0ec31d4-3283-4931-af8b-6fb9fdb8b1aa</td>\n",
       "      <td>$86.00</td>\n",
       "      <td>$</td>\n",
       "      <td>86.00</td>\n",
       "      <td>NaN</td>\n",
       "      <td>RmFjaWFsIENsZWFuc2Vycw</td>\n",
       "      <td>TWlsayBDbGVhbnNlcg</td>\n",
       "      <td>YmVhdXR5IGFuZCBwZXJzb25hbCBjYXJl</td>\n",
       "    </tr>\n",
       "    <tr>\n",
       "      <th>13729996</th>\n",
       "      <td>fcaedae7-dc20-4da1-b4ae-77368c973088</td>\n",
       "      <td>$69.99</td>\n",
       "      <td>$</td>\n",
       "      <td>69.99</td>\n",
       "      <td>NaN</td>\n",
       "      <td>Um9vbSBkZWNvcg</td>\n",
       "      <td>UGxhbnRlcnMvVmFzZXM</td>\n",
       "      <td>SG91c2Vob2xkIGFuZCBDbGVhbmluZw</td>\n",
       "    </tr>\n",
       "    <tr>\n",
       "      <th>13729999</th>\n",
       "      <td>0f4550de-1f33-48b5-a5ef-fc5e39df208e</td>\n",
       "      <td>$55.00</td>\n",
       "      <td>$</td>\n",
       "      <td>55.00</td>\n",
       "      <td>NaN</td>\n",
       "      <td>TG9hZmVycy8gT3hmb3Jkcw</td>\n",
       "      <td>d29tZW5zIE94Zm9yZHMgYW5kIExvYWZlcnM</td>\n",
       "      <td>Q2xvdGhpbmcgYW5kIEFjY2Vzc29yaWVz</td>\n",
       "    </tr>\n",
       "  </tbody>\n",
       "</table>\n",
       "<p>5510000 rows × 8 columns</p>\n",
       "</div>"
      ],
      "text/plain": [
       "                                          uuid price_string currency   value  \\\n",
       "2         acbd66ff-79f8-467a-91f9-108a45af5626       $19.95        $   19.95   \n",
       "3         963915d6-b2e3-4098-b242-9410593cf205       $92.00        $   92.00   \n",
       "4         b5b68f3c-b1e0-40e5-8ee5-e2f7236c1daf       $11.50        $   11.50   \n",
       "6         9599f1a9-d406-43eb-89f5-9b1c0af1ac9a       $24.99        $   24.99   \n",
       "7         35799087-f6f4-4ca2-abfe-cbb5c27d2f1a      $148.00        $  148.00   \n",
       "...                                        ...          ...      ...     ...   \n",
       "13729987  e12c3fe8-2987-4e95-93b2-14e173d8028a       $32.99        $   32.99   \n",
       "13729989  544416c3-4845-4427-b27b-d3ca9beca970       $34.00        $   34.00   \n",
       "13729994  f0ec31d4-3283-4931-af8b-6fb9fdb8b1aa       $86.00        $   86.00   \n",
       "13729996  fcaedae7-dc20-4da1-b4ae-77368c973088       $69.99        $   69.99   \n",
       "13729999  0f4550de-1f33-48b5-a5ef-fc5e39df208e       $55.00        $   55.00   \n",
       "\n",
       "         price_string_unf                                       product_type  \\\n",
       "2                     NaN  R3VtbWllcyB2aXRhbWlucyBhbmQgbWluZXJhbHMgZm9yIG...   \n",
       "3                     NaN                                           U2VydW1z   \n",
       "4                     NaN                    RWF0aW5nIFV0ZW5zaWxzL0N1dGxlcnk   \n",
       "6                     NaN                               TW9wcyBhbmQgYnJvb21z   \n",
       "7                     NaN                                   V29tZW5zIFBhbnRz   \n",
       "...                   ...                                                ...   \n",
       "13729987              NaN         UGxhbnQgYmFzZWQgUHJvdGVpbiBTdXBwbGVtZW50cw   \n",
       "13729989              NaN                                       U3Vuc2NyZWVu   \n",
       "13729994              NaN                             RmFjaWFsIENsZWFuc2Vycw   \n",
       "13729996              NaN                                     Um9vbSBkZWNvcg   \n",
       "13729999              NaN                             TG9hZmVycy8gT3hmb3Jkcw   \n",
       "\n",
       "                                             level_1  \\\n",
       "2                             SW1tdW5pdHkgZ3VtbWllcw   \n",
       "3                                     RmFjZSBTZXJ1bQ   \n",
       "4                                     Q2hvcHN0aWNrcw   \n",
       "6                                               TW9w   \n",
       "7               V29tZW5zIFJlZ3VsYXIvQ2FzdWFsIFBhbnRz   \n",
       "...                                              ...   \n",
       "13729987  UGxhbnQgYmFzZWQgUHJvdGVpbiBTdXBwbGVtZW50cw   \n",
       "13729989                        VmVnYW4gU3Vuc2NyZWVu   \n",
       "13729994                          TWlsayBDbGVhbnNlcg   \n",
       "13729996                         UGxhbnRlcnMvVmFzZXM   \n",
       "13729999         d29tZW5zIE94Zm9yZHMgYW5kIExvYWZlcnM   \n",
       "\n",
       "                                  category  \n",
       "2                                 SGVhbHRo  \n",
       "3         YmVhdXR5IGFuZCBwZXJzb25hbCBjYXJl  \n",
       "4               a2l0Y2hpbmcgYW5kIGRpbmluZw  \n",
       "6           SG91c2Vob2xkIGFuZCBDbGVhbmluZw  \n",
       "7         Q2xvdGhpbmcgYW5kIEFjY2Vzc29yaWVz  \n",
       "...                                    ...  \n",
       "13729987                          SGVhbHRo  \n",
       "13729989  YmVhdXR5IGFuZCBwZXJzb25hbCBjYXJl  \n",
       "13729994  YmVhdXR5IGFuZCBwZXJzb25hbCBjYXJl  \n",
       "13729996    SG91c2Vob2xkIGFuZCBDbGVhbmluZw  \n",
       "13729999  Q2xvdGhpbmcgYW5kIEFjY2Vzc29yaWVz  \n",
       "\n",
       "[5510000 rows x 8 columns]"
      ]
     },
     "execution_count": 116,
     "metadata": {},
     "output_type": "execute_result"
    }
   ],
   "source": [
    "Product_with_prices"
   ]
  },
  {
   "cell_type": "markdown",
   "metadata": {},
   "source": [
    "## Query 4 =>"
   ]
  },
  {
   "cell_type": "code",
   "execution_count": 117,
   "metadata": {},
   "outputs": [],
   "source": [
    "category_wise=Product_with_prices.groupby('category')['value'].mean().reset_index(name='Average Price')"
   ]
  },
  {
   "cell_type": "code",
   "execution_count": 118,
   "metadata": {},
   "outputs": [
    {
     "data": {
      "text/html": [
       "<div>\n",
       "<style scoped>\n",
       "    .dataframe tbody tr th:only-of-type {\n",
       "        vertical-align: middle;\n",
       "    }\n",
       "\n",
       "    .dataframe tbody tr th {\n",
       "        vertical-align: top;\n",
       "    }\n",
       "\n",
       "    .dataframe thead th {\n",
       "        text-align: right;\n",
       "    }\n",
       "</style>\n",
       "<table border=\"1\" class=\"dataframe\">\n",
       "  <thead>\n",
       "    <tr style=\"text-align: right;\">\n",
       "      <th></th>\n",
       "      <th>category</th>\n",
       "      <th>Average Price</th>\n",
       "    </tr>\n",
       "  </thead>\n",
       "  <tbody>\n",
       "    <tr>\n",
       "      <th>0</th>\n",
       "      <td>Q2xvdGhpbmcgYW5kIEFjY2Vzc29yaWVz</td>\n",
       "      <td>125.413871</td>\n",
       "    </tr>\n",
       "    <tr>\n",
       "      <th>1</th>\n",
       "      <td>QXJ0IHN1cHBsaWVz</td>\n",
       "      <td>19.471053</td>\n",
       "    </tr>\n",
       "    <tr>\n",
       "      <th>2</th>\n",
       "      <td>QmFieWNhcmU</td>\n",
       "      <td>163.688889</td>\n",
       "    </tr>\n",
       "    <tr>\n",
       "      <th>3</th>\n",
       "      <td>RWxlY3Ryb25pY3M</td>\n",
       "      <td>60.258182</td>\n",
       "    </tr>\n",
       "    <tr>\n",
       "      <th>4</th>\n",
       "      <td>SG91c2Vob2xkIGFuZCBDbGVhbmluZw</td>\n",
       "      <td>76.199000</td>\n",
       "    </tr>\n",
       "    <tr>\n",
       "      <th>5</th>\n",
       "      <td>SGVhbHRo</td>\n",
       "      <td>32.557586</td>\n",
       "    </tr>\n",
       "    <tr>\n",
       "      <th>6</th>\n",
       "      <td>VG95cyBhbmQgR2FtZXM</td>\n",
       "      <td>32.448947</td>\n",
       "    </tr>\n",
       "    <tr>\n",
       "      <th>7</th>\n",
       "      <td>VG9vbHMgYW5kIGhvbWUgaW1wcm92ZW1lbnQ</td>\n",
       "      <td>82.223500</td>\n",
       "    </tr>\n",
       "    <tr>\n",
       "      <th>8</th>\n",
       "      <td>YmVhdXR5IGFuZCBwZXJzb25hbCBjYXJl</td>\n",
       "      <td>34.745067</td>\n",
       "    </tr>\n",
       "    <tr>\n",
       "      <th>9</th>\n",
       "      <td>Z3JvY2VyaWVz</td>\n",
       "      <td>10.541667</td>\n",
       "    </tr>\n",
       "    <tr>\n",
       "      <th>10</th>\n",
       "      <td>a2l0Y2hpbmcgYW5kIGRpbmluZw</td>\n",
       "      <td>16.703235</td>\n",
       "    </tr>\n",
       "    <tr>\n",
       "      <th>11</th>\n",
       "      <td>b2ZmaWNlIHByb2R1Y3Rz</td>\n",
       "      <td>20.480000</td>\n",
       "    </tr>\n",
       "    <tr>\n",
       "      <th>12</th>\n",
       "      <td>cGV0IHN1cHBsaWVz</td>\n",
       "      <td>14.181875</td>\n",
       "    </tr>\n",
       "  </tbody>\n",
       "</table>\n",
       "</div>"
      ],
      "text/plain": [
       "                               category  Average Price\n",
       "0      Q2xvdGhpbmcgYW5kIEFjY2Vzc29yaWVz     125.413871\n",
       "1                      QXJ0IHN1cHBsaWVz      19.471053\n",
       "2                           QmFieWNhcmU     163.688889\n",
       "3                       RWxlY3Ryb25pY3M      60.258182\n",
       "4        SG91c2Vob2xkIGFuZCBDbGVhbmluZw      76.199000\n",
       "5                              SGVhbHRo      32.557586\n",
       "6                   VG95cyBhbmQgR2FtZXM      32.448947\n",
       "7   VG9vbHMgYW5kIGhvbWUgaW1wcm92ZW1lbnQ      82.223500\n",
       "8      YmVhdXR5IGFuZCBwZXJzb25hbCBjYXJl      34.745067\n",
       "9                          Z3JvY2VyaWVz      10.541667\n",
       "10           a2l0Y2hpbmcgYW5kIGRpbmluZw      16.703235\n",
       "11                 b2ZmaWNlIHByb2R1Y3Rz      20.480000\n",
       "12                     cGV0IHN1cHBsaWVz      14.181875"
      ]
     },
     "execution_count": 118,
     "metadata": {},
     "output_type": "execute_result"
    }
   ],
   "source": [
    "category_wise"
   ]
  },
  {
   "cell_type": "markdown",
   "metadata": {},
   "source": [
    "# Plots"
   ]
  },
  {
   "cell_type": "markdown",
   "metadata": {},
   "source": [
    "## Plotting count of products without prices for each product_type,category,level_1"
   ]
  },
  {
   "cell_type": "code",
   "execution_count": 119,
   "metadata": {},
   "outputs": [
    {
     "data": {
      "text/plain": [
       "<seaborn.axisgrid.FacetGrid at 0x25e54362f10>"
      ]
     },
     "execution_count": 119,
     "metadata": {},
     "output_type": "execute_result"
    },
    {
     "data": {
      "image/png": "[encoded data removed]",
      "text/plain": [
       "<Figure size 360x360 with 1 Axes>"
      ]
     },
     "metadata": {
      "needs_background": "light"
     },
     "output_type": "display_data"
    }
   ],
   "source": [
    "sns.catplot(x=\"product_type\", y=\"count of products\", data=count_product_without_prices_product_type)"
   ]
  },
  {
   "cell_type": "code",
   "execution_count": 120,
   "metadata": {},
   "outputs": [
    {
     "data": {
      "text/plain": [
       "<seaborn.axisgrid.FacetGrid at 0x25ef0ca31f0>"
      ]
     },
     "execution_count": 120,
     "metadata": {},
     "output_type": "execute_result"
    },
    {
     "data": {
      "image/png": "[encoded data removed]",
      "text/plain": [
       "<Figure size 360x360 with 1 Axes>"
      ]
     },
     "metadata": {
      "needs_background": "light"
     },
     "output_type": "display_data"
    }
   ],
   "source": [
    "sns.catplot(x=\"category\", y=\"count of products\", data=count_product_without_prices_category)"
   ]
  },
  {
   "cell_type": "code",
   "execution_count": 121,
   "metadata": {},
   "outputs": [
    {
     "data": {
      "text/plain": [
       "<seaborn.axisgrid.FacetGrid at 0x25e4d1a59d0>"
      ]
     },
     "execution_count": 121,
     "metadata": {},
     "output_type": "execute_result"
    },
    {
     "data": {
      "image/png": "[encoded data removed]",
      "text/plain": [
       "<Figure size 360x360 with 1 Axes>"
      ]
     },
     "metadata": {
      "needs_background": "light"
     },
     "output_type": "display_data"
    }
   ],
   "source": [
    "sns.catplot(x=\"level_1\", y=\"count of products\", data=count_product_without_prices_level_1)"
   ]
  },
  {
   "cell_type": "markdown",
   "metadata": {},
   "source": [
    "## Plotting count of products with prices for each product_type,category,level_1"
   ]
  },
  {
   "cell_type": "code",
   "execution_count": 122,
   "metadata": {},
   "outputs": [
    {
     "data": {
      "text/plain": [
       "<seaborn.axisgrid.FacetGrid at 0x25ef14b3400>"
      ]
     },
     "execution_count": 122,
     "metadata": {},
     "output_type": "execute_result"
    },
    {
     "data": {
      "image/png": "[encoded data removed]",
      "text/plain": [
       "<Figure size 360x360 with 1 Axes>"
      ]
     },
     "metadata": {
      "needs_background": "light"
     },
     "output_type": "display_data"
    }
   ],
   "source": [
    "sns.catplot(x=\"product_type\", y=\"count of products\", data=count_product_with_prices_product_type)"
   ]
  },
  {
   "cell_type": "code",
   "execution_count": 123,
   "metadata": {},
   "outputs": [
    {
     "data": {
      "text/plain": [
       "<seaborn.axisgrid.FacetGrid at 0x25dc3b52550>"
      ]
     },
     "execution_count": 123,
     "metadata": {},
     "output_type": "execute_result"
    },
    {
     "data": {
      "image/png": "[encoded data removed]",
      "text/plain": [
       "<Figure size 360x360 with 1 Axes>"
      ]
     },
     "metadata": {
      "needs_background": "light"
     },
     "output_type": "display_data"
    }
   ],
   "source": [
    "sns.catplot(x=\"category\", y=\"count of products\", data=count_product_with_prices_category)"
   ]
  },
  {
   "cell_type": "code",
   "execution_count": 124,
   "metadata": {},
   "outputs": [
    {
     "data": {
      "text/plain": [
       "<seaborn.axisgrid.FacetGrid at 0x25e6a020b20>"
      ]
     },
     "execution_count": 124,
     "metadata": {},
     "output_type": "execute_result"
    },
    {
     "data": {
      "image/png": "[encoded data removed]",
      "text/plain": [
       "<Figure size 360x360 with 1 Axes>"
      ]
     },
     "metadata": {
      "needs_background": "light"
     },
     "output_type": "display_data"
    }
   ],
   "source": [
    "sns.catplot(x=\"level_1\", y=\"count of products\", data=count_product_with_prices_level_1)"
   ]
  },
  {
   "cell_type": "markdown",
   "metadata": {},
   "source": [
    "## Plotting category wise Average Price"
   ]
  },
  {
   "cell_type": "code",
   "execution_count": 125,
   "metadata": {},
   "outputs": [
    {
     "data": {
      "text/plain": [
       "<seaborn.axisgrid.FacetGrid at 0x25e6a053790>"
      ]
     },
     "execution_count": 125,
     "metadata": {},
     "output_type": "execute_result"
    },
    {
     "data": {
      "image/png": "[encoded data removed]",
      "text/plain": [
       "<Figure size 360x360 with 1 Axes>"
      ]
     },
     "metadata": {
      "needs_background": "light"
     },
     "output_type": "display_data"
    }
   ],
   "source": [
    "sns.catplot(x=\"category\", y=\"Average Price\", data=category_wise)"
   ]
  }
 ],
 "metadata": {
  "interpreter": {
   "hash": "b0db2507fc24011c95d06c14f2e2bfca2126f40ed057f10518ff45788d6eb82e"
  },
  "kernelspec": {
   "display_name": "Python 3.10.1 64-bit",
   "language": "python",
   "name": "python3"
  },
  "language_info": {
   "codemirror_mode": {
    "name": "ipython",
    "version": 3
   },
   "file_extension": ".py",
   "mimetype": "text/x-python",
   "name": "python",
   "nbconvert_exporter": "python",
   "pygments_lexer": "ipython3",
   "version": "3.9.10"
  },
  "orig_nbformat": 4
 },
 "nbformat": 4,
 "nbformat_minor": 2
}
